{
 "cells": [
  {
   "cell_type": "markdown",
   "id": "a9cf8f41-1b76-4c6f-80d1-c868c8ea377d",
   "metadata": {},
   "source": [
    "# For Loop"
   ]
  },
  {
   "cell_type": "code",
   "execution_count": 5,
   "id": "dec2f04a-7702-4f94-b475-a139a3125e4a",
   "metadata": {},
   "outputs": [
    {
     "name": "stdout",
     "output_type": "stream",
     "text": [
      "grapes\n",
      "pineapples\n",
      "oranges\n"
     ]
    }
   ],
   "source": [
    "fruits = ['grapes','pineapples','oranges']\n",
    "for items in fruits:\n",
    "    print(items)"
   ]
  },
  {
   "cell_type": "code",
   "execution_count": 6,
   "id": "96ce2d97-143a-414d-8ae6-4470da5875a6",
   "metadata": {},
   "outputs": [
    {
     "name": "stdout",
     "output_type": "stream",
     "text": [
      "0\n",
      "1\n",
      "2\n",
      "3\n",
      "4\n"
     ]
    }
   ],
   "source": [
    "# looping within a range\n",
    "for num in range(5):\n",
    "    print(num)"
   ]
  },
  {
   "cell_type": "code",
   "execution_count": 9,
   "id": "0c9d220f-6a1b-4511-9ca8-ba2b52b9b454",
   "metadata": {},
   "outputs": [
    {
     "name": "stdout",
     "output_type": "stream",
     "text": [
      "R\n",
      "E\n",
      "G\n",
      "O\n",
      "N\n",
      "E\n",
      "T\n"
     ]
    }
   ],
   "source": [
    "# Looping within a range\n",
    "for char in 'REGONET':\n",
    "    print(char)"
   ]
  },
  {
   "cell_type": "code",
   "execution_count": 16,
   "id": "1a04eb92-00b1-4b65-b214-5d1bdb168921",
   "metadata": {},
   "outputs": [
    {
     "name": "stdout",
     "output_type": "stream",
     "text": [
      "name : HP\n",
      "color : Pink\n"
     ]
    }
   ],
   "source": [
    "# Looping for a dictionaries\n",
    "tech = {'name':'HP', 'color':'Pink'}\n",
    "for item in tech:\n",
    "    print(f'{item} : {tech[item]}')"
   ]
  },
  {
   "cell_type": "code",
   "execution_count": 21,
   "id": "ee7658b8-8bbc-4fc7-bd7d-18d9262d499a",
   "metadata": {},
   "outputs": [
    {
     "name": "stdout",
     "output_type": "stream",
     "text": [
      "1\n",
      "2\n",
      "3\n",
      "\n",
      "4\n",
      "5\n",
      "6\n",
      "\n",
      "7\n",
      "8\n",
      "9\n",
      "\n"
     ]
    }
   ],
   "source": [
    "# nested loop\n",
    "matrix = [\n",
    "    [1,2,3],\n",
    "    [4,5,6],\n",
    "    [7,8,9]\n",
    "]\n",
    "\n",
    "\n",
    "for rows in matrix:\n",
    "    for num in rows:\n",
    "        print(num)\n",
    "    print()"
   ]
  },
  {
   "cell_type": "code",
   "execution_count": 48,
   "id": "0791e53c-00ff-4854-98d0-df97ac247033",
   "metadata": {},
   "outputs": [],
   "source": [
    "# Looping through dictionaries of name and age\n",
    "users = [\n",
    "    {'name':'Matthew', 'age':26},\n",
    "    {'name':'Mykel', 'age':23},\n",
    "    {'name':'May', 'age':25}\n",
    "]"
   ]
  },
  {
   "cell_type": "code",
   "execution_count": 49,
   "id": "594d60e5-27ac-4a26-820d-ded18e4c0a7e",
   "metadata": {},
   "outputs": [
    {
     "name": "stdout",
     "output_type": "stream",
     "text": [
      "Matthew is 26 years old\n",
      "Mykel is 23 years old\n",
      "May is 25 years old\n"
     ]
    }
   ],
   "source": [
    "for user in users:\n",
    "    print(f\"{user['name']} is {user['age']} years old\")"
   ]
  },
  {
   "cell_type": "code",
   "execution_count": null,
   "id": "760c6c54-8044-4226-91d9-144f2379162d",
   "metadata": {},
   "outputs": [],
   "source": []
  }
 ],
 "metadata": {
  "kernelspec": {
   "display_name": "Python 3 (ipykernel)",
   "language": "python",
   "name": "python3"
  },
  "language_info": {
   "codemirror_mode": {
    "name": "ipython",
    "version": 3
   },
   "file_extension": ".py",
   "mimetype": "text/x-python",
   "name": "python",
   "nbconvert_exporter": "python",
   "pygments_lexer": "ipython3",
   "version": "3.12.4"
  }
 },
 "nbformat": 4,
 "nbformat_minor": 5
}
