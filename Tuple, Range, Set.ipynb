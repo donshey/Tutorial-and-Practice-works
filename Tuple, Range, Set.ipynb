{
 "cells": [
  {
   "cell_type": "markdown",
   "id": "b8e9211f-2cc1-4469-9057-01d3eddc86ce",
   "metadata": {},
   "source": [
    "# TUPLE"
   ]
  },
  {
   "cell_type": "code",
   "execution_count": 1,
   "id": "3fff7f56-42ce-436c-a1e6-7083a563b1f9",
   "metadata": {},
   "outputs": [],
   "source": [
    "# 1. Creating Tuples\n",
    "#Question: Create a tuple named `book` that contains the following information about a book:\n",
    "#title (\"Python Programming\"), author (\"John Doe\"), and number of pages (350). Print the tuple.\n",
    "\n",
    "book = ({'title':'Python Programming'}, {'author':'John Doe'}, {'number of pages':350})"
   ]
  },
  {
   "cell_type": "code",
   "execution_count": 3,
   "id": "7f9c04fc-38cf-4cff-9a5a-fc06dec0c1f1",
   "metadata": {},
   "outputs": [
    {
     "name": "stdout",
     "output_type": "stream",
     "text": [
      "({'title': 'Python Programming'}, {'author': 'John Doe'}, {'number of pages': 350})\n"
     ]
    }
   ],
   "source": [
    "print(book)"
   ]
  },
  {
   "cell_type": "code",
   "execution_count": 5,
   "id": "4a90faeb-52b5-400e-9100-f01ef83e643e",
   "metadata": {},
   "outputs": [
    {
     "name": "stdout",
     "output_type": "stream",
     "text": [
      "-118.2437\n"
     ]
    }
   ],
   "source": [
    "#Accessing Elements\n",
    "#Question: Given the tuple `coordinates = (34.0522, -118.2437)`, write code to print only the latitude.\n",
    "\n",
    "tuple_coordinate = (34.0522, -118.2437)\n",
    "print(tuple_coordinate[1])"
   ]
  },
  {
   "cell_type": "code",
   "execution_count": 6,
   "id": "ed93d570-ae4d-4b32-94fc-b425012e4074",
   "metadata": {},
   "outputs": [
    {
     "name": "stdout",
     "output_type": "stream",
     "text": [
      "The latitude of the coordinate is -118.2437\n"
     ]
    }
   ],
   "source": [
    "longitude, latitude = (34.0522, -118.2437)\n",
    "print(f'The latitude of the coordinate is {latitude}')"
   ]
  },
  {
   "cell_type": "code",
   "execution_count": 9,
   "id": "19fc0bf9-0176-4ba9-968d-a182c9c352ea",
   "metadata": {},
   "outputs": [],
   "source": [
    "# Unpacking Tuples\n",
    "#Question: Unpack the tuple `person = (\"Emily\", 30, \"Engineer\")` into three variables: `name`, `age`, and `profession`. Then, print each variable.\n",
    "\n",
    "person = ('Name', 'Age', 'Profession'),('Emily', 30, 'Engineer')"
   ]
  },
  {
   "cell_type": "code",
   "execution_count": 11,
   "id": "7f411f80-b43d-4eeb-83bb-251280fde059",
   "metadata": {},
   "outputs": [
    {
     "name": "stdout",
     "output_type": "stream",
     "text": [
      "The name of the person is Emily\n",
      "Her age is 30 years\n",
      "And her profession is an Engineer\n"
     ]
    }
   ],
   "source": [
    "print(f'The name of the person is {'Emily'}')\n",
    "print(f'Her age is {30} years')\n",
    "print(f'And her profession is an {'Engineer'}')"
   ]
  },
  {
   "cell_type": "code",
   "execution_count": 28,
   "id": "437fd3e4-67db-4119-a7f3-ca5fa2e18232",
   "metadata": {},
   "outputs": [],
   "source": [
    "# Real-World Scenario\n",
    "#Question: You have a list of tuples representing students and their scores: `students = #[(\"Alice\", 85), (\"Bob\", 90), (\"Charlie\", 78)]`. \n",
    "#Write a loop to print each student's name and score in the format `\"Name: Alice, Score: 85\"`.\n",
    "\n",
    "\n",
    "students = [('Alice', 85), ('Bob', 90), ('Charlie', 78)]"
   ]
  },
  {
   "cell_type": "code",
   "execution_count": 25,
   "id": "efc1da92-cde8-44f4-b871-d4bd9b53b692",
   "metadata": {},
   "outputs": [
    {
     "data": {
      "text/plain": [
       "[{'Alice': 85}, {'Bob': 90}, {'Charlie': 78}]"
      ]
     },
     "execution_count": 25,
     "metadata": {},
     "output_type": "execute_result"
    }
   ],
   "source": [
    "students"
   ]
  },
  {
   "cell_type": "code",
   "execution_count": 31,
   "id": "a547c47c-d11b-4ccf-b508-638154826c47",
   "metadata": {},
   "outputs": [
    {
     "name": "stdout",
     "output_type": "stream",
     "text": [
      "Alice: 85\n",
      "Bob: 90\n",
      "Charlie: 78\n"
     ]
    }
   ],
   "source": [
    "for name, score in students:\n",
    "    print(f\"{name}: {score}\")"
   ]
  },
  {
   "cell_type": "code",
   "execution_count": null,
   "id": "ca91d1e3-db61-42fd-8e62-05c585b9d56c",
   "metadata": {},
   "outputs": [],
   "source": []
  },
  {
   "cell_type": "markdown",
   "id": "e3e71893-dad1-47af-9dcc-26088c386455",
   "metadata": {},
   "source": [
    "# Range"
   ]
  },
  {
   "cell_type": "code",
   "execution_count": 32,
   "id": "17f15996-bf1b-4596-b8b1-c0a56bba8c18",
   "metadata": {},
   "outputs": [
    {
     "name": "stdout",
     "output_type": "stream",
     "text": [
      "[0, 1, 2, 3, 4, 5, 6, 7, 8, 9]\n"
     ]
    }
   ],
   "source": [
    "# 1. Basic Range Creation\n",
    "# Question: Create a range that starts at 0 and ends at 10 (exclusive). Convert it to a list and print it.\n",
    "\n",
    "list1 = range(0,10)\n",
    "print(list(list1))"
   ]
  },
  {
   "cell_type": "code",
   "execution_count": 34,
   "id": "fd21f0ea-8712-48e6-b308-0565485aea58",
   "metadata": {},
   "outputs": [
    {
     "name": "stdout",
     "output_type": "stream",
     "text": [
      "range(0, 10)\n"
     ]
    }
   ],
   "source": [
    "print(list1)"
   ]
  },
  {
   "cell_type": "code",
   "execution_count": 35,
   "id": "32372ce8-fef3-4fef-9d85-ee150d3b0e59",
   "metadata": {},
   "outputs": [
    {
     "name": "stdout",
     "output_type": "stream",
     "text": [
      "[0, 1, 2, 3, 4, 5, 6, 7, 8, 9]\n"
     ]
    }
   ],
   "source": [
    "print(list(list1))"
   ]
  },
  {
   "cell_type": "code",
   "execution_count": 36,
   "id": "9a88b536-596e-4d7c-b959-439d67e6b09f",
   "metadata": {},
   "outputs": [],
   "source": [
    "# Range with Start and Stop\n",
    "# Question: Create a range that starts at 5 and ends at 15 (exclusive). Convert it to a list and print it.\n",
    "\n",
    "list2 = range(5,15)"
   ]
  },
  {
   "cell_type": "code",
   "execution_count": 37,
   "id": "a0905b47-ec87-4f82-b40b-b0252a7c3842",
   "metadata": {},
   "outputs": [
    {
     "name": "stdout",
     "output_type": "stream",
     "text": [
      "[5, 6, 7, 8, 9, 10, 11, 12, 13, 14]\n"
     ]
    }
   ],
   "source": [
    "print(list(list2))"
   ]
  },
  {
   "cell_type": "code",
   "execution_count": 38,
   "id": "4de61808-0f60-4f8f-b5d5-136e30ba27d2",
   "metadata": {},
   "outputs": [
    {
     "name": "stdout",
     "output_type": "stream",
     "text": [
      "[2, 5, 8, 11, 14, 17]\n"
     ]
    }
   ],
   "source": [
    "# 3. Range with Step\n",
    "# Question: Create a range that starts at 2, and ends at 20 (exclusive), with a step of 3. Convert it to a list and print it.\n",
    "\n",
    "list3 = range(2,20,3)\n",
    "print(list(list3))"
   ]
  },
  {
   "cell_type": "code",
   "execution_count": 43,
   "id": "80a61815-024f-47de-9682-c7d9df558830",
   "metadata": {},
   "outputs": [
    {
     "name": "stdout",
     "output_type": "stream",
     "text": [
      "1\n",
      "4\n",
      "9\n",
      "16\n"
     ]
    }
   ],
   "source": [
    "# Using Range in Loops\n",
    "# Question: Write a `for` loop that prints the squares of numbers from 1 to 5 using `range()`.\n",
    "\n",
    "list4 = range(1,5)\n",
    "\n",
    "for num in (list4):\n",
    "    print (num ** 2)\n",
    "    "
   ]
  },
  {
   "cell_type": "code",
   "execution_count": 47,
   "id": "28b19c7a-2193-4d67-8a66-e4902422405b",
   "metadata": {},
   "outputs": [
    {
     "name": "stdout",
     "output_type": "stream",
     "text": [
      "0 Laptop\n",
      "1 Smartphone\n",
      "2 Tablet\n",
      "3 Headphones\n",
      "4 Camera\n",
      "5 Smartwatch\n",
      "6 Printer\n",
      "7 Monitor\n",
      "8 Keyboard\n",
      "9 Mouse\n"
     ]
    }
   ],
   "source": [
    "# 5. Real-World Scenario\n",
    "# Question: You have a list of 10 products in a store. Use a range to iterate over the list indices and print each product with its index.\n",
    "# products = [\"Laptop\", \"Smartphone\", \"Tablet\", \"Headphones\", \"Camera\", \"Smartwatch\", \"Printer\", \"Monitor\", \"Keyboard\", \"Mouse\"]\n",
    "\n",
    "\n",
    "products = [\"Laptop\", \"Smartphone\", \"Tablet\", \"Headphones\", \"Camera\", \"Smartwatch\", \"Printer\", \"Monitor\", \"Keyboard\", \"Mouse\"]\n",
    "for items in range(len(products)):\n",
    "    print (items, products[items])"
   ]
  },
  {
   "cell_type": "code",
   "execution_count": null,
   "id": "24a19a8f-75e5-4f42-af74-8557c2c4367d",
   "metadata": {},
   "outputs": [],
   "source": []
  },
  {
   "cell_type": "markdown",
   "id": "a214501a-408d-4742-b8ce-8f5ad9fa9406",
   "metadata": {},
   "source": [
    "# Set"
   ]
  },
  {
   "cell_type": "code",
   "execution_count": 50,
   "id": "f71476dd-2319-4ba8-b599-b1f8e1e4330a",
   "metadata": {},
   "outputs": [
    {
     "name": "stdout",
     "output_type": "stream",
     "text": [
      "{'blue', 'green', 'red'}\n"
     ]
    }
   ],
   "source": [
    "# 1. Creating Sets\n",
    "# Question: Create a set named `colors` that contains the following colors: \"red\", \"green\", \"and blue\". Print the set.\n",
    "\n",
    "\n",
    "colors = {'red','green','blue'}\n",
    "print(colors)"
   ]
  },
  {
   "cell_type": "code",
   "execution_count": 52,
   "id": "b11ec063-cfff-4bc3-b14b-e3dfe729234a",
   "metadata": {},
   "outputs": [
    {
     "name": "stdout",
     "output_type": "stream",
     "text": [
      "{1, 2, 3, 4, 5}\n"
     ]
    }
   ],
   "source": [
    "# 2. Ensuring Uniqueness\n",
    "#Question: Create a set from the list `numbers = [1, 2, 2, 3, 4, 4, 5]` to remove duplicates. Print the set.\n",
    "\n",
    "numbers = {1,2,2,3,4,4,5}\n",
    "print(numbers)"
   ]
  },
  {
   "cell_type": "code",
   "execution_count": 54,
   "id": "bb16fbaf-9bcf-4534-9e6c-ffb3c0a0ad1f",
   "metadata": {},
   "outputs": [
    {
     "name": "stdout",
     "output_type": "stream",
     "text": [
      "{1, 2, 3, 4, 5}\n"
     ]
    }
   ],
   "source": [
    "# 3. Set Operations: Union\n",
    "# Question: Given two sets `set_a = {1, 2, 3}` and `set_b = {3, 4, 5}`, perform a union operation and print the result.\n",
    "\n",
    "set_a = {1,2,3}\n",
    "set_b = {3,4,5}\n",
    "print(set_a.union(set_b))"
   ]
  },
  {
   "cell_type": "code",
   "execution_count": 55,
   "id": "e3d4aa5c-682b-4a56-be90-e69205b2c7f0",
   "metadata": {},
   "outputs": [
    {
     "name": "stdout",
     "output_type": "stream",
     "text": [
      "{3}\n"
     ]
    }
   ],
   "source": [
    "# 4. Set Operations: Intersection\n",
    "# Question: Using the same sets `set_a` and `set_b`, perform an intersection operation and print the result.\n",
    "\n",
    "print(set_a.intersection(set_b))"
   ]
  },
  {
   "cell_type": "code",
   "execution_count": 62,
   "id": "8bd88582-059c-4156-8ef6-552fb4fe5f78",
   "metadata": {},
   "outputs": [
    {
     "data": {
      "text/plain": [
       "{1, 2, 3, 4, 5}"
      ]
     },
     "execution_count": 62,
     "metadata": {},
     "output_type": "execute_result"
    }
   ],
   "source": [
    "# 5. Set Operations: Difference\n",
    "# Question: Find the difference between `set_a` and `set_b` (elements in `set_a` but not in `set_b`) and print the result.\n",
    "\n",
    "set_a.symmetric_difference(set_b)"
   ]
  },
  {
   "cell_type": "code",
   "execution_count": 63,
   "id": "577fc932-dd93-48d1-9db1-3f3bf1328fdb",
   "metadata": {},
   "outputs": [],
   "source": [
    "difference = set_a - set_b"
   ]
  },
  {
   "cell_type": "code",
   "execution_count": 64,
   "id": "de989824-4ae6-4df2-a20f-efd4bca8c400",
   "metadata": {},
   "outputs": [
    {
     "name": "stdout",
     "output_type": "stream",
     "text": [
      "{1, 2}\n"
     ]
    }
   ],
   "source": [
    "print(difference)"
   ]
  },
  {
   "cell_type": "code",
   "execution_count": 65,
   "id": "d9595cf7-9908-429e-911d-0bef3137d220",
   "metadata": {},
   "outputs": [
    {
     "name": "stdout",
     "output_type": "stream",
     "text": [
      "{1, 2}\n"
     ]
    }
   ],
   "source": [
    "print(set_a.difference(set_b))"
   ]
  },
  {
   "cell_type": "code",
   "execution_count": 67,
   "id": "b52af41d-6090-4588-b915-2bfc2c784461",
   "metadata": {},
   "outputs": [],
   "source": [
    "# 6. Modifying Sets\n",
    "# Question: Starting with the set `fruits = {\"apple\", \"banana\", \"cherry\"}`, add \"orange\" to the set and remove \"banana\". Print the updated set.\n",
    "\n",
    "fruits = {'apple','banana','cherry'}"
   ]
  },
  {
   "cell_type": "code",
   "execution_count": 68,
   "id": "40422860-967b-4b1c-9459-e136e0a53d59",
   "metadata": {},
   "outputs": [],
   "source": [
    "fruits.add('orange')"
   ]
  },
  {
   "cell_type": "code",
   "execution_count": 69,
   "id": "fce8fda7-f503-4d21-a95f-37cfcd0c9f6b",
   "metadata": {},
   "outputs": [
    {
     "data": {
      "text/plain": [
       "{'apple', 'banana', 'cherry', 'orange'}"
      ]
     },
     "execution_count": 69,
     "metadata": {},
     "output_type": "execute_result"
    }
   ],
   "source": [
    "fruits"
   ]
  },
  {
   "cell_type": "code",
   "execution_count": 70,
   "id": "f426cedd-f71e-4876-9a12-8bee0f0bf2e8",
   "metadata": {},
   "outputs": [],
   "source": [
    "fruits.remove('banana')"
   ]
  },
  {
   "cell_type": "code",
   "execution_count": 72,
   "id": "4444c487-cd1a-4d3e-80f1-bd1bc1174bdd",
   "metadata": {},
   "outputs": [
    {
     "name": "stdout",
     "output_type": "stream",
     "text": [
      "{'orange', 'cherry', 'apple'}\n"
     ]
    }
   ],
   "source": [
    "print(fruits)"
   ]
  },
  {
   "cell_type": "code",
   "execution_count": 73,
   "id": "2aa1c7b7-f055-40e6-829d-59645a35fcb9",
   "metadata": {},
   "outputs": [],
   "source": [
    "# 7. Real-World Scenario\n",
    "# Question: You have two lists of attendees for two different workshops:\n",
    "# workshop1 = [\"Alice\", \"Bob\", \"Charlie\", \"David\"]\n",
    "# workshop2 = [\"Charlie\", \"David\", \"Eve\", \"Frank\"]\n",
    "# Convert these lists to sets and find out:\n",
    "#- Who attended both workshops?\n",
    "#- Who attended only the first workshop?\n",
    "#- Who attended only the second workshop?\n",
    "\n",
    "\n",
    "workshop1 = ['Alice','Bob','Charlie','David']\n",
    "workshop2 = ['Charlie','David','Eve','Frank']"
   ]
  },
  {
   "cell_type": "code",
   "execution_count": 74,
   "id": "da940a05-e132-40be-93de-bdeb029fbd5a",
   "metadata": {},
   "outputs": [
    {
     "data": {
      "text/plain": [
       "{'Alice', 'Bob', 'Charlie', 'David'}"
      ]
     },
     "execution_count": 74,
     "metadata": {},
     "output_type": "execute_result"
    }
   ],
   "source": [
    "# convert the 2 variables to set\n",
    "set(workshop1)"
   ]
  },
  {
   "cell_type": "code",
   "execution_count": 75,
   "id": "b3acffcd-89ab-4a39-9bcf-b436e229ca24",
   "metadata": {},
   "outputs": [
    {
     "data": {
      "text/plain": [
       "{'Charlie', 'David', 'Eve', 'Frank'}"
      ]
     },
     "execution_count": 75,
     "metadata": {},
     "output_type": "execute_result"
    }
   ],
   "source": [
    "set(workshop2)"
   ]
  },
  {
   "cell_type": "code",
   "execution_count": 76,
   "id": "75e662e7-df8f-43e5-8b4d-b9684fa9853f",
   "metadata": {},
   "outputs": [
    {
     "data": {
      "text/plain": [
       "{'Charlie', 'David'}"
      ]
     },
     "execution_count": 76,
     "metadata": {},
     "output_type": "execute_result"
    }
   ],
   "source": [
    "# who attended both workshop\n",
    "set(workshop1).intersection(set(workshop2))"
   ]
  },
  {
   "cell_type": "code",
   "execution_count": 77,
   "id": "1b93bafa-ec2c-40cc-bfaa-13e831b22578",
   "metadata": {},
   "outputs": [
    {
     "data": {
      "text/plain": [
       "{'Alice', 'Bob'}"
      ]
     },
     "execution_count": 77,
     "metadata": {},
     "output_type": "execute_result"
    }
   ],
   "source": [
    "# who attended only first workshop\n",
    "set(workshop1).difference(set(workshop2))"
   ]
  },
  {
   "cell_type": "code",
   "execution_count": 78,
   "id": "85107feb-8051-4e01-9b9f-4805de142fda",
   "metadata": {},
   "outputs": [
    {
     "data": {
      "text/plain": [
       "{'Eve', 'Frank'}"
      ]
     },
     "execution_count": 78,
     "metadata": {},
     "output_type": "execute_result"
    }
   ],
   "source": [
    "# who attended only second workshop\n",
    "set(workshop2).difference(set(workshop1))"
   ]
  },
  {
   "cell_type": "code",
   "execution_count": null,
   "id": "09ba53e4-4bf1-4f8a-8f44-9f5ced8ca89d",
   "metadata": {},
   "outputs": [],
   "source": []
  },
  {
   "cell_type": "markdown",
   "id": "76012095-a0c8-4d75-901d-b610f5d8a7c3",
   "metadata": {},
   "source": [
    "# Bonus Challenges"
   ]
  },
  {
   "cell_type": "code",
   "execution_count": 81,
   "id": "09328ddc-374e-4bfa-8ed2-5513564d5ea0",
   "metadata": {},
   "outputs": [
    {
     "name": "stdout",
     "output_type": "stream",
     "text": [
      "((1, 2), (3, 4), (5, 6))\n"
     ]
    }
   ],
   "source": [
    "# 1. Nested Tuples\n",
    "# Question: Create a tuple that contains three tuples, each representing a point's (x, y) coordinates: (1, 2), (3, 4), and (5, 6). Print the tuple.\n",
    "\n",
    "\n",
    "points = (1,2),(3,4),(5,6)\n",
    "print(points)"
   ]
  },
  {
   "cell_type": "code",
   "execution_count": 83,
   "id": "c8906d0d-0918-403c-b6d0-ed994cf14798",
   "metadata": {},
   "outputs": [
    {
     "name": "stdout",
     "output_type": "stream",
     "text": [
      "1 2\n"
     ]
    }
   ],
   "source": [
    "x,y = points[0]\n",
    "print(x,y)"
   ]
  },
  {
   "cell_type": "code",
   "execution_count": 85,
   "id": "d6b7cc7f-b9e1-4a1c-aba2-145e604ff401",
   "metadata": {},
   "outputs": [
    {
     "name": "stdout",
     "output_type": "stream",
     "text": [
      "3 4\n",
      "5 6\n"
     ]
    }
   ],
   "source": [
    "x,y = points[1]\n",
    "print(x,y)\n",
    "x,y = points[2]\n",
    "print(x,y)"
   ]
  },
  {
   "cell_type": "code",
   "execution_count": 86,
   "id": "f181520a-b8fc-42ae-83dd-b4ca0023aa20",
   "metadata": {},
   "outputs": [
    {
     "name": "stdout",
     "output_type": "stream",
     "text": [
      "5 6\n"
     ]
    }
   ],
   "source": [
    "print(x,y)"
   ]
  },
  {
   "cell_type": "code",
   "execution_count": 90,
   "id": "cb47cc10-0453-4f7b-a5ac-c199c7e33b48",
   "metadata": {},
   "outputs": [
    {
     "data": {
      "text/plain": [
       "2"
      ]
     },
     "execution_count": 90,
     "metadata": {},
     "output_type": "execute_result"
    }
   ],
   "source": [
    "# 2. Tuple Methods\n",
    "# Question: Given the tuple `data = (\"apple\", \"banana\", \"cherry\", \"banana\")`, find how many times \"banana\" appears in the tuple.\n",
    "\n",
    "data = (\"apple\", \"banana\", \"cherry\", \"banana\")\n",
    "data.count('banana')"
   ]
  },
  {
   "cell_type": "code",
   "execution_count": 91,
   "id": "db999873-7e84-4010-978d-a6f4d377a7e6",
   "metadata": {},
   "outputs": [
    {
     "name": "stdout",
     "output_type": "stream",
     "text": [
      "[10, 8, 6, 4, 2]\n"
     ]
    }
   ],
   "source": [
    "# 1. Reverse Range\n",
    "# Question: Create a range that starts at 10 and ends at 0 (exclusive) with a step of -2. Convert it to a list and print it.\n",
    "\n",
    "list5 = range(10,0,-2)\n",
    "print(list(list5))"
   ]
  },
  {
   "cell_type": "code",
   "execution_count": 92,
   "id": "cd229da4-93fb-4a5e-be6c-08a4eaf2866c",
   "metadata": {},
   "outputs": [],
   "source": [
    "# 2. List Comprehension with Range\n",
    "# Question: Use a list comprehension with `range()` to create a list of squares for numbers from 1 to 10. Print the list.\n",
    "\n",
    "numbers3 = range(1,10)"
   ]
  },
  {
   "cell_type": "code",
   "execution_count": 96,
   "id": "e28d396d-1a74-48a3-bd7f-1da97b618047",
   "metadata": {},
   "outputs": [
    {
     "name": "stdout",
     "output_type": "stream",
     "text": [
      "1\n",
      "4\n",
      "9\n",
      "16\n",
      "25\n"
     ]
    }
   ],
   "source": [
    "# This is just a for loop statement to help out with the list comprehension\n",
    "for num in numbers:\n",
    "    print(num ** 2)"
   ]
  },
  {
   "cell_type": "code",
   "execution_count": 102,
   "id": "005196a4-f80e-4479-b8d7-c83dd7893480",
   "metadata": {},
   "outputs": [],
   "source": [
    "squared_number = [num ** 2 for num in numbers]"
   ]
  },
  {
   "cell_type": "code",
   "execution_count": 103,
   "id": "f2d56569-ff75-44c5-8d70-0478eeec7fe3",
   "metadata": {},
   "outputs": [
    {
     "name": "stdout",
     "output_type": "stream",
     "text": [
      "[1, 4, 9, 16, 25]\n"
     ]
    }
   ],
   "source": [
    "print(squared_number)"
   ]
  },
  {
   "cell_type": "code",
   "execution_count": 105,
   "id": "9657d57c-94c8-4848-b645-c10e0c15f116",
   "metadata": {},
   "outputs": [
    {
     "name": "stdout",
     "output_type": "stream",
     "text": [
      "{1, 2, 5, 6}\n"
     ]
    }
   ],
   "source": [
    "# 1. Symmetric Difference\n",
    "# Question: Given two sets `set_x = {1, 2, 3, 4}` and `set_y = {3, 4, 5, 6}`, find the symmetric difference and print the result.\n",
    "\n",
    "set_x = {1, 2, 3, 4} \n",
    "set_y = {3, 4, 5, 6}\n",
    "print(set_x.symmetric_difference(set_y))"
   ]
  },
  {
   "cell_type": "code",
   "execution_count": 107,
   "id": "c76d9fed-bd59-4a3a-8091-f1ad6c4cb6a1",
   "metadata": {},
   "outputs": [
    {
     "name": "stdout",
     "output_type": "stream",
     "text": [
      "True\n"
     ]
    }
   ],
   "source": [
    "# 2. Subset and Superset\n",
    "# Question: Given two sets `set_a = {1, 2}` and `set_b = {1, 2, 3, 4}`, determine if `set_a` is a\n",
    "# subset of `set_b` and if `set_b` is a superset of `set_a`. Print the results as `True` or `False`.\n",
    "\n",
    "set_a = {1, 2}\n",
    "set_b = {1, 2, 3, 4}\n",
    "print(set_a.issubset(set_b))"
   ]
  },
  {
   "cell_type": "code",
   "execution_count": 108,
   "id": "1ee9e409-2a9a-4983-b86b-29fe15ef39ae",
   "metadata": {},
   "outputs": [
    {
     "name": "stdout",
     "output_type": "stream",
     "text": [
      "True\n"
     ]
    }
   ],
   "source": [
    "print(set_b.issuperset(set_a))"
   ]
  },
  {
   "cell_type": "code",
   "execution_count": null,
   "id": "bba51f11-dcc2-4287-8e57-b4d1146fa12d",
   "metadata": {},
   "outputs": [],
   "source": []
  }
 ],
 "metadata": {
  "kernelspec": {
   "display_name": "Python 3 (ipykernel)",
   "language": "python",
   "name": "python3"
  },
  "language_info": {
   "codemirror_mode": {
    "name": "ipython",
    "version": 3
   },
   "file_extension": ".py",
   "mimetype": "text/x-python",
   "name": "python",
   "nbconvert_exporter": "python",
   "pygments_lexer": "ipython3",
   "version": "3.12.4"
  }
 },
 "nbformat": 4,
 "nbformat_minor": 5
}
