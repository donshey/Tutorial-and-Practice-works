{
 "cells": [
  {
   "cell_type": "markdown",
   "id": "76374c1c-b96f-4fbf-be0e-35bee9fffcb5",
   "metadata": {},
   "source": [
    "# Functions"
   ]
  },
  {
   "cell_type": "code",
   "execution_count": 1,
   "id": "3c9857a8-f373-406e-bdae-e6f659bbdfd7",
   "metadata": {},
   "outputs": [],
   "source": [
    "# Introduction to function\n",
    "\n",
    "def greet():\n",
    "    print('You are Welcome to Regonet Global ')"
   ]
  },
  {
   "cell_type": "code",
   "execution_count": 4,
   "id": "f75f6f34-43eb-4a6a-81f6-33d237b4fbd3",
   "metadata": {},
   "outputs": [
    {
     "name": "stdout",
     "output_type": "stream",
     "text": [
      "You are Welcome to Regonet Global \n"
     ]
    }
   ],
   "source": [
    "greet()"
   ]
  },
  {
   "cell_type": "code",
   "execution_count": 5,
   "id": "9113074a-c166-415e-90a7-c8ab0b21f170",
   "metadata": {},
   "outputs": [],
   "source": [
    "# Create a function to add 2 arguements\n",
    "\n",
    "def add(a, b):\n",
    "    return a + b "
   ]
  },
  {
   "cell_type": "code",
   "execution_count": 6,
   "id": "23acf2ae-ddea-4de7-b34a-49dcead82412",
   "metadata": {},
   "outputs": [
    {
     "name": "stdout",
     "output_type": "stream",
     "text": [
      "1138\n"
     ]
    }
   ],
   "source": [
    "# Calling the add function\n",
    "result = add(346, 792)\n",
    "print(result)"
   ]
  },
  {
   "cell_type": "code",
   "execution_count": 7,
   "id": "7029e6a4-e17c-4ba2-b9cb-7edf6da90627",
   "metadata": {},
   "outputs": [],
   "source": [
    "# Create a function that can run the area of a rectangle\n",
    "\n",
    "def calc_rectangle_area(lenght,width):\n",
    "    return lenght * width"
   ]
  },
  {
   "cell_type": "code",
   "execution_count": 9,
   "id": "27ca9f1f-ad8a-44c4-b1c1-91dbd01faa14",
   "metadata": {},
   "outputs": [
    {
     "name": "stdout",
     "output_type": "stream",
     "text": [
      "7031200\n"
     ]
    }
   ],
   "source": [
    "# assigning value to be calculated\n",
    "\n",
    "area1 = calc_rectangle_area(9350, 752)\n",
    "print(area1)"
   ]
  },
  {
   "cell_type": "markdown",
   "id": "f4c0255f-e3f0-4fe7-8fd2-18cc3a11dd24",
   "metadata": {},
   "source": [
    "# Types of function"
   ]
  },
  {
   "cell_type": "code",
   "execution_count": 10,
   "id": "5e285764-d35a-4804-851d-e6a2472d450c",
   "metadata": {},
   "outputs": [],
   "source": [
    "# Positioning Function\n",
    "\n",
    "def multi(a,b):\n",
    "    return a * b"
   ]
  },
  {
   "cell_type": "code",
   "execution_count": 11,
   "id": "05944d76-30eb-43a0-96f4-88c987ff02c0",
   "metadata": {},
   "outputs": [
    {
     "name": "stdout",
     "output_type": "stream",
     "text": [
      "430070619\n"
     ]
    }
   ],
   "source": [
    "area2 = multi(6589, 65271)\n",
    "print(area2)"
   ]
  },
  {
   "cell_type": "code",
   "execution_count": 12,
   "id": "bad9af5f-4088-442d-99f1-c864a748d09e",
   "metadata": {},
   "outputs": [],
   "source": [
    "# 2. Keyword argument\n",
    "\n",
    "def introduce(name, age, city):\n",
    "    print(f\"My name is {name}, I am {age} years old and I live in {city}\")"
   ]
  },
  {
   "cell_type": "code",
   "execution_count": 14,
   "id": "b49d9c29-6249-431c-b89a-ff129b8813ee",
   "metadata": {},
   "outputs": [
    {
     "name": "stdout",
     "output_type": "stream",
     "text": [
      "My name is Seyi, I am 38 years old and I live in Lagos\n",
      "None\n"
     ]
    }
   ],
   "source": [
    "# Calling the assignment\n",
    "\n",
    "print(introduce(age = 38, city = 'Lagos', name = 'Seyi'))"
   ]
  },
  {
   "cell_type": "code",
   "execution_count": 15,
   "id": "4ea189b9-4ca8-4394-92ba-b339c0ad429e",
   "metadata": {},
   "outputs": [],
   "source": [
    "# 3. Default arguement\n",
    "\n",
    "def greet(name, greeting = 'Hello'):\n",
    "    print(f\"{greeting}, {name}\")"
   ]
  },
  {
   "cell_type": "code",
   "execution_count": 17,
   "id": "e0988df5-9778-47f1-b96d-0821b52d87fb",
   "metadata": {},
   "outputs": [
    {
     "name": "stdout",
     "output_type": "stream",
     "text": [
      "Hello, Tolu\n"
     ]
    }
   ],
   "source": [
    "# Calling the assignment\n",
    "\n",
    "greet('Tolu')"
   ]
  },
  {
   "cell_type": "code",
   "execution_count": 19,
   "id": "2977f80b-b863-4338-ae9d-46520d667328",
   "metadata": {},
   "outputs": [
    {
     "name": "stdout",
     "output_type": "stream",
     "text": [
      "How are you, Tolu\n"
     ]
    }
   ],
   "source": [
    "# Another example \n",
    "\n",
    "greet('Tolu', 'How are you')"
   ]
  },
  {
   "cell_type": "code",
   "execution_count": null,
   "id": "4a915615-f13b-4c38-93a2-dfd0f883d1f0",
   "metadata": {},
   "outputs": [],
   "source": []
  },
  {
   "cell_type": "code",
   "execution_count": 48,
   "id": "423443b5-222d-4d9a-a8c4-264720924efa",
   "metadata": {},
   "outputs": [],
   "source": [
    "# Variable lenght arguement\n",
    "# functions with args\n",
    "\n",
    "def sum_all(*args):\n",
    "    total = 0\n",
    "    for nums in args:\n",
    "        total += nums\n",
    "    return total\n",
    "        "
   ]
  },
  {
   "cell_type": "code",
   "execution_count": null,
   "id": "f9ec5608-797e-441f-9125-9a031063835f",
   "metadata": {},
   "outputs": [],
   "source": []
  },
  {
   "cell_type": "code",
   "execution_count": 49,
   "id": "351eb112-b2ab-4594-a7f3-28730df436fe",
   "metadata": {},
   "outputs": [
    {
     "data": {
      "text/plain": [
       "378992"
      ]
     },
     "execution_count": 49,
     "metadata": {},
     "output_type": "execute_result"
    }
   ],
   "source": [
    "# Calling varying numbers of argument\n",
    "\n",
    "sum_all(786,10387,367819)"
   ]
  },
  {
   "cell_type": "markdown",
   "id": "9113e4d0-594f-4bc8-9279-f4e09ee60de9",
   "metadata": {},
   "source": [
    "# Assignment"
   ]
  },
  {
   "cell_type": "code",
   "execution_count": 39,
   "id": "4a7f9775-bc06-46e1-a035-f9804325477b",
   "metadata": {},
   "outputs": [],
   "source": [
    "# 1. *Positional Arguments*\n",
    "#- *Question:* Write a function full_name that takes two positional arguments first and last and returns the full name as a single string. \n",
    "# Call the function with the arguments \"John\" and \"Doe\" and print the result.\n",
    "\n",
    "def full_name(a, b):\n",
    "    return a, b"
   ]
  },
  {
   "cell_type": "code",
   "execution_count": 46,
   "id": "48178841-f39c-4d6d-bec6-d9d8424cf308",
   "metadata": {},
   "outputs": [
    {
     "name": "stdout",
     "output_type": "stream",
     "text": [
      "My name is John Doe\n"
     ]
    }
   ],
   "source": [
    "a = 'John'\n",
    "b = 'Doe'\n",
    "\n",
    "full_name(a, b)\n",
    "print(f'My name is {a} {b}')"
   ]
  },
  {
   "cell_type": "code",
   "execution_count": null,
   "id": "571c7d84-8241-4d64-bb15-782319d093ac",
   "metadata": {},
   "outputs": [],
   "source": []
  },
  {
   "cell_type": "code",
   "execution_count": 31,
   "id": "8936f1ec-e941-47ee-ba8a-6bb0bdcf55e1",
   "metadata": {},
   "outputs": [],
   "source": [
    "# 2. *Keyword Arguments*\n",
    "# - *Question:* Given the function def book_details(title, author, year):, \n",
    "# call it using keyword arguments to print the details of the book \"1984\" by \"George Orwell\", published in 1949.\n",
    "\n",
    "\n",
    "def book_details(title, author, year):\n",
    "    print(f\"The book before you is named {title}. {author} was the author of the book and it was published in the year {year}.\")"
   ]
  },
  {
   "cell_type": "code",
   "execution_count": 32,
   "id": "ce9ddff9-c712-4b14-bcee-8579e844e92e",
   "metadata": {},
   "outputs": [
    {
     "name": "stdout",
     "output_type": "stream",
     "text": [
      "The book before you is named 1984. George Orwell was the author of the book and it was published in the year 1949.\n"
     ]
    }
   ],
   "source": [
    "# Calling and assigning argument\n",
    "\n",
    "book_details(1984, 'George Orwell', 1949)"
   ]
  },
  {
   "cell_type": "code",
   "execution_count": null,
   "id": "afe63e83-8fb3-4f78-bc2a-b778a165a04b",
   "metadata": {},
   "outputs": [],
   "source": []
  },
  {
   "cell_type": "code",
   "execution_count": 36,
   "id": "8fa5a070-17c9-4ff8-852a-0da4a45b3c11",
   "metadata": {},
   "outputs": [],
   "source": [
    "# 3. *Default Arguments*\n",
    "# *Question: Create a function make_coffee that takes one mandatory parameter size and one optional parameter flavor with a default value of \"vanilla\".\n",
    "# The function should print the coffee order. Call the function twice: once with both arguments and once with only the size.\n",
    "\n",
    "def make_coffee(size, flavor = 'vanilla'):\n",
    "    print(f\"Can I get a {size} cup of {flavor} flavored coffee, please?\")"
   ]
  },
  {
   "cell_type": "code",
   "execution_count": null,
   "id": "241fa7a4-a46a-434d-b8ce-665d8d881f6e",
   "metadata": {},
   "outputs": [],
   "source": []
  },
  {
   "cell_type": "code",
   "execution_count": 37,
   "id": "61d77a6d-1bc2-453a-a21a-0500d30353fc",
   "metadata": {},
   "outputs": [
    {
     "name": "stdout",
     "output_type": "stream",
     "text": [
      "Can I get a small cup of vanilla flavored coffee, please?\n"
     ]
    }
   ],
   "source": [
    "# Calling and assigning argument\n",
    "\n",
    "make_coffee('small')"
   ]
  },
  {
   "cell_type": "code",
   "execution_count": 38,
   "id": "35d56528-982c-421a-a815-de80b2feb830",
   "metadata": {},
   "outputs": [
    {
     "name": "stdout",
     "output_type": "stream",
     "text": [
      "Can I get a medium cup of strawberry flavored coffee, please?\n"
     ]
    }
   ],
   "source": [
    "# Another example\n",
    "\n",
    "make_coffee('medium', 'strawberry')"
   ]
  },
  {
   "cell_type": "code",
   "execution_count": null,
   "id": "55c3bfad-ef60-4d96-8814-bd57a00f6b80",
   "metadata": {},
   "outputs": [],
   "source": []
  },
  {
   "cell_type": "code",
   "execution_count": 52,
   "id": "42ef2019-cec3-435d-ad74-786fafc675c7",
   "metadata": {},
   "outputs": [],
   "source": [
    "# Create a function that calculates the average marks of a student\n",
    "# marks = [55, 64, 75, 80, 65]\n",
    "\n",
    "def find_avg_mark(marks):\n",
    "    sum_of_marks = sum(marks)\n",
    "    total_no_subjects = len(marks)\n",
    "    average_mark = (sum_of_marks/total_no_subjects)\n",
    "    return average_mark"
   ]
  },
  {
   "cell_type": "code",
   "execution_count": 53,
   "id": "8c4ca997-1540-45f8-a1a2-f2566acbc2dc",
   "metadata": {},
   "outputs": [
    {
     "name": "stdout",
     "output_type": "stream",
     "text": [
      "The average mark for the student is 67.8\n"
     ]
    }
   ],
   "source": [
    "# Calling and assigning\n",
    "\n",
    "marks = [55, 64, 75, 80, 65]\n",
    "average = find_avg_mark(marks)\n",
    "print(f\"The average mark for the student is {average}\")"
   ]
  },
  {
   "cell_type": "code",
   "execution_count": 54,
   "id": "72d9fdf3-792c-47e4-8cd5-540bd5beb2f2",
   "metadata": {},
   "outputs": [],
   "source": [
    "# compute grade\n",
    "\n",
    "def compute_grade(average_mark):\n",
    "    if average_mark >= 90:\n",
    "        print('Grade: A')\n",
    "    elif average_mark >= 80:\n",
    "        print('Grade: B')\n",
    "    elif average_mark >= 70:\n",
    "        print('Grade: C')\n",
    "    else:\n",
    "        print('Grade: F')"
   ]
  },
  {
   "cell_type": "code",
   "execution_count": 55,
   "id": "26d2d146-2285-4c8c-92fc-829362bef546",
   "metadata": {},
   "outputs": [
    {
     "name": "stdout",
     "output_type": "stream",
     "text": [
      "Grade: F\n"
     ]
    }
   ],
   "source": [
    "# Assigning\n",
    "compute_grade(average)"
   ]
  }
 ],
 "metadata": {
  "kernelspec": {
   "display_name": "Python 3 (ipykernel)",
   "language": "python",
   "name": "python3"
  },
  "language_info": {
   "codemirror_mode": {
    "name": "ipython",
    "version": 3
   },
   "file_extension": ".py",
   "mimetype": "text/x-python",
   "name": "python",
   "nbconvert_exporter": "python",
   "pygments_lexer": "ipython3",
   "version": "3.12.4"
  }
 },
 "nbformat": 4,
 "nbformat_minor": 5
}
