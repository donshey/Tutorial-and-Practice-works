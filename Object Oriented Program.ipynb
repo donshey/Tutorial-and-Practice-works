{
 "cells": [
  {
   "cell_type": "markdown",
   "id": "631a9b93-64ad-4474-9a8d-7202b9773110",
   "metadata": {},
   "source": [
    "# Object Oriented Program"
   ]
  },
  {
   "cell_type": "code",
   "execution_count": null,
   "id": "2b6c721c-303a-4ee4-a6c8-cf1b46e3cb58",
   "metadata": {},
   "outputs": [],
   "source": [
    "# Object Oriented Program\n",
    "\n",
    "class Dog:\n",
    "    def bark():\n",
    "        print(bark)"
   ]
  },
  {
   "cell_type": "code",
   "execution_count": 2,
   "id": "81167702-4b75-4318-b3b3-226d10d3a62a",
   "metadata": {},
   "outputs": [],
   "source": [
    "d = Dog()"
   ]
  },
  {
   "cell_type": "code",
   "execution_count": 3,
   "id": "cd99d726-b631-43ed-9791-154d04fdbbdb",
   "metadata": {},
   "outputs": [
    {
     "name": "stdout",
     "output_type": "stream",
     "text": [
      "<class '__main__.Dog'>\n"
     ]
    }
   ],
   "source": [
    "print(type(d))"
   ]
  },
  {
   "cell_type": "code",
   "execution_count": null,
   "id": "e3f6a310-a324-4cfb-ab37-6039c38c4de0",
   "metadata": {},
   "outputs": [],
   "source": []
  },
  {
   "cell_type": "code",
   "execution_count": 4,
   "id": "00beebb4-2cd2-400d-9348-a88186e88f58",
   "metadata": {},
   "outputs": [],
   "source": [
    "# Creating some attributes for a dog\n",
    "\n",
    "class Dogs:\n",
    "    def __init__(self, name, age, color):\n",
    "        self.name = name\n",
    "        self.age = age\n",
    "        self.color = color\n",
    "    def greeting(self):\n",
    "        print(f\"The name of my dog is {self.name}, she is {self.age} years old, and she is {self.color} in color\")"
   ]
  },
  {
   "cell_type": "code",
   "execution_count": 5,
   "id": "43fb4f28-426e-4e98-94bd-081a655f3d07",
   "metadata": {},
   "outputs": [],
   "source": [
    "dd = Dogs('Hoddie', 7, 'white')"
   ]
  },
  {
   "cell_type": "code",
   "execution_count": 7,
   "id": "3056669c-aaf9-456a-b5b2-d23825821ea2",
   "metadata": {},
   "outputs": [
    {
     "name": "stdout",
     "output_type": "stream",
     "text": [
      "The name of my dog is Hoddie, she is 7 years old, and she is white in color\n"
     ]
    }
   ],
   "source": [
    "dd.greeting()"
   ]
  },
  {
   "cell_type": "code",
   "execution_count": null,
   "id": "54520156-18f0-4979-ac44-189b47a1c3ef",
   "metadata": {},
   "outputs": [],
   "source": []
  },
  {
   "cell_type": "code",
   "execution_count": 15,
   "id": "78f1075d-ed7c-4a6d-a2d4-95a19a0aff45",
   "metadata": {},
   "outputs": [],
   "source": [
    "# Creating OOP for employees in a company\n",
    "\n",
    "class Employee:\n",
    "    company = 'Techcorp'\n",
    "\n",
    "    def __init__(self, name, position, salary):\n",
    "        self.name = name\n",
    "        self.position = position\n",
    "        self.salary = salary\n",
    "    def display_employee(self):\n",
    "        print(f\"My name is {self.name}, my position is a/an {self.position}, and I earn ${self.salary} as salary at {Employee.company}.\")\n",
    "        "
   ]
  },
  {
   "cell_type": "code",
   "execution_count": 16,
   "id": "3efe9de6-949a-492f-a775-bbf92e60e444",
   "metadata": {},
   "outputs": [],
   "source": [
    "emp1 = Employee('Seyi', 'Data Analyst', 150000)\n",
    "emp2 = Employee('Stephen Oluwaseun', 'Project Manager', 90000)"
   ]
  },
  {
   "cell_type": "code",
   "execution_count": 18,
   "id": "414a0d5b-89cf-42db-af20-1e6f1c3f9b3d",
   "metadata": {},
   "outputs": [
    {
     "name": "stdout",
     "output_type": "stream",
     "text": [
      "My name is Seyi, my position is a/an Data Analyst, and I earn $150000 as salary at Techcorp.\n"
     ]
    }
   ],
   "source": [
    "emp1.display_employee()"
   ]
  },
  {
   "cell_type": "code",
   "execution_count": 17,
   "id": "c5c7e655-eecb-4416-9a24-d7de399f0d9f",
   "metadata": {},
   "outputs": [
    {
     "name": "stdout",
     "output_type": "stream",
     "text": [
      "My name is Stephen Oluwaseun, my position is a/an Project Manager, and I earn $90000 as salary at Techcorp.\n"
     ]
    }
   ],
   "source": [
    "emp2.display_employee()"
   ]
  },
  {
   "cell_type": "code",
   "execution_count": null,
   "id": "3c678203-a89b-4c02-bcf9-be8c469f59a4",
   "metadata": {},
   "outputs": [],
   "source": []
  },
  {
   "cell_type": "code",
   "execution_count": 34,
   "id": "e4370612-e47c-4f49-9a91-3a0df49be2cf",
   "metadata": {},
   "outputs": [],
   "source": [
    "# Creating OOP for a car\n",
    "\n",
    "class Car:\n",
    "    wheel = 4\n",
    "\n",
    "    def __init__(self, model, brand, year):\n",
    "        self.model = model\n",
    "        self.brand = brand\n",
    "        self.year = year\n",
    "        self.mileage = 0\n",
    "    def drive(self, miles):\n",
    "        self.mileage += miles\n",
    "    def car_info(self):\n",
    "        print(f\"This {self.year} {self.model} {self.brand} has {self.mileage} miles and it is a {Car.wheel} drive car\")"
   ]
  },
  {
   "cell_type": "code",
   "execution_count": 35,
   "id": "4210c09f-61b6-489b-9718-bc0d9998f1d8",
   "metadata": {},
   "outputs": [],
   "source": [
    "my_car = Car('Benz', 'GLK', 2015)\n",
    "my_car.drive(100)"
   ]
  },
  {
   "cell_type": "code",
   "execution_count": 36,
   "id": "a6631891-6be9-45e4-9284-e3231095831b",
   "metadata": {},
   "outputs": [
    {
     "name": "stdout",
     "output_type": "stream",
     "text": [
      "This 2015 Benz GLK has 100 miles and it is a 4 drive car\n"
     ]
    }
   ],
   "source": [
    "my_car.car_info()"
   ]
  },
  {
   "cell_type": "code",
   "execution_count": null,
   "id": "fe81e94d-3e67-44a8-acdd-13c74c9d54e5",
   "metadata": {},
   "outputs": [],
   "source": []
  },
  {
   "cell_type": "code",
   "execution_count": 50,
   "id": "680cab0e-7f5c-431e-bda8-933026281a75",
   "metadata": {},
   "outputs": [],
   "source": [
    "class Robot:\n",
    "    def introduce_self(self):\n",
    "        print('My name is ' + self.name)\n",
    "\n",
    "r1 = Robot()\n",
    "r1.name = 'Tom'\n",
    "r1.color = 'dark'\n",
    "r1.weight = 30\n",
    "\n",
    "r2 = Robot()\n",
    "r2.name = 'Jerry'\n",
    "r2.color = 'blue'\n",
    "r2.weight = 40"
   ]
  },
  {
   "cell_type": "code",
   "execution_count": 51,
   "id": "b9d2906b-9a4f-47c4-86a4-87117207e991",
   "metadata": {},
   "outputs": [
    {
     "name": "stdout",
     "output_type": "stream",
     "text": [
      "My name is Tom\n",
      "My name is Jerry\n"
     ]
    }
   ],
   "source": [
    "r1.introduce_self()\n",
    "r2.introduce_self()"
   ]
  },
  {
   "cell_type": "code",
   "execution_count": 57,
   "id": "62283fc1-a0b1-4357-92db-4b7f536218b8",
   "metadata": {},
   "outputs": [
    {
     "name": "stdout",
     "output_type": "stream",
     "text": [
      "My name is Brain\n",
      "My favorite color is white\n",
      "And I weight 37kg\n",
      "My name is Pinky\n",
      "My favorite color is pink\n",
      "And I weight 23kg\n"
     ]
    }
   ],
   "source": [
    "# Using a constructor\n",
    "\n",
    "class Irobot():\n",
    "    def __init__(self, name, color, weight):\n",
    "        self.name = name\n",
    "        self.color = color\n",
    "        self.weight = weight\n",
    "\n",
    "    def introduce_yourself(self):\n",
    "        print('My name is ' + self.name)\n",
    "        print('My favorite color is ' + self.color)\n",
    "        print(f'And I weight {self.weight}kg')\n",
    "\n",
    "r3 = Irobot('Brain', 'white', 37)\n",
    "r4 = Irobot('Pinky', 'pink', 23)\n",
    "\n",
    "r3.introduce_yourself()\n",
    "r4.introduce_yourself()\n",
    "        "
   ]
  },
  {
   "cell_type": "code",
   "execution_count": null,
   "id": "3e250257-31a2-4ea6-a7a4-b73afc8b5bfd",
   "metadata": {},
   "outputs": [],
   "source": []
  },
  {
   "cell_type": "code",
   "execution_count": 73,
   "id": "bb8eb2e4-9d97-43ff-bd55-28cc4beed0f0",
   "metadata": {},
   "outputs": [],
   "source": [
    "class Person:\n",
    "    def __init__(self, n, p, i):\n",
    "        self.name = n\n",
    "        self.personality = p\n",
    "        self.is_sitting = i\n",
    "\n",
    "    def sit_down(self):\n",
    "        self.is_sitting = True\n",
    "\n",
    "    def stand_up(self):\n",
    "        self.is_sitting = False\n",
    "\n",
    "    def introduce_oneself(self):\n",
    "        print(f'My name is {self.name}, I am {self.personality} in nature and I am sitting down ({self.is_sitting}) at the moment')"
   ]
  },
  {
   "cell_type": "code",
   "execution_count": 74,
   "id": "ba75fe2a-88dc-4de5-b054-3b1b3274e4cd",
   "metadata": {},
   "outputs": [
    {
     "name": "stdout",
     "output_type": "stream",
     "text": [
      "My name is Alice, I am aggressive in nature and I am sitting down (False) at the moment\n",
      "My name is Becky, I am talkative in nature and I am sitting down (True) at the moment\n"
     ]
    }
   ],
   "source": [
    "p1 = Person('Alice', 'aggressive', False)\n",
    "p2 = Person('Becky', 'talkative', True)\n",
    "\n",
    "p1.introduce_oneself()\n",
    "p2.introduce_oneself()"
   ]
  },
  {
   "cell_type": "code",
   "execution_count": 62,
   "id": "163e3cc7-3390-4663-8204-26142314e849",
   "metadata": {},
   "outputs": [],
   "source": [
    "# p1 owned r2\n",
    "\n",
    "p1.robot_owned = r2\n",
    "p2.robot_owned = r1"
   ]
  },
  {
   "cell_type": "code",
   "execution_count": 64,
   "id": "36e423ed-389d-4465-8bd3-39835b76f894",
   "metadata": {},
   "outputs": [
    {
     "name": "stdout",
     "output_type": "stream",
     "text": [
      "My name is Jerry\n",
      "My name is Tom\n"
     ]
    }
   ],
   "source": [
    "p1.robot_owned.introduce_self()\n",
    "p2.robot_owned.introduce_self()"
   ]
  },
  {
   "cell_type": "code",
   "execution_count": null,
   "id": "40fc00f0-14a4-444e-8161-c4b0746f72c2",
   "metadata": {},
   "outputs": [],
   "source": []
  },
  {
   "cell_type": "code",
   "execution_count": null,
   "id": "a2a1f013-356a-438a-a8fc-4d52ae5c9701",
   "metadata": {},
   "outputs": [],
   "source": []
  }
 ],
 "metadata": {
  "kernelspec": {
   "display_name": "Python 3 (ipykernel)",
   "language": "python",
   "name": "python3"
  },
  "language_info": {
   "codemirror_mode": {
    "name": "ipython",
    "version": 3
   },
   "file_extension": ".py",
   "mimetype": "text/x-python",
   "name": "python",
   "nbconvert_exporter": "python",
   "pygments_lexer": "ipython3",
   "version": "3.12.4"
  }
 },
 "nbformat": 4,
 "nbformat_minor": 5
}
