{
 "cells": [
  {
   "cell_type": "markdown",
   "id": "71a9a01f-4658-42f0-bff1-bed1c87c82de",
   "metadata": {},
   "source": [
    "# Introduction to PANDAS"
   ]
  },
  {
   "cell_type": "raw",
   "id": "119bd623-7be7-43a0-993f-dbbcddf9b06c",
   "metadata": {},
   "source": [
    "key features of pandas: \n",
    "data structures \n",
    "data operations \n",
    "data input \n",
    "data cleaning"
   ]
  },
  {
   "cell_type": "code",
   "execution_count": 1,
   "id": "1719a3d0-ffe0-4f83-9281-c72c3414cb6d",
   "metadata": {},
   "outputs": [],
   "source": [
    "# lets import pandas library\n",
    "\n",
    "import pandas as pd"
   ]
  },
  {
   "cell_type": "code",
   "execution_count": 8,
   "id": "2523fe8e-711a-4466-af3a-0b880b2a9e04",
   "metadata": {},
   "outputs": [
    {
     "name": "stdout",
     "output_type": "stream",
     "text": [
      "a    1\n",
      "b    2\n",
      "c    3\n",
      "dtype: int64\n"
     ]
    }
   ],
   "source": [
    "# Creating a series of one-dimensional datasheet\n",
    "\n",
    "a = pd.Series([1,2,3], index = ['a','b','c'])\n",
    "print(a)"
   ]
  },
  {
   "cell_type": "code",
   "execution_count": 10,
   "id": "8632fbd6-e27d-4983-9547-50b99af5acdd",
   "metadata": {},
   "outputs": [
    {
     "name": "stdout",
     "output_type": "stream",
     "text": [
      "rat       4\n",
      "dog       5\n",
      "rabbit    6\n",
      "duck      7\n",
      "dtype: int64\n"
     ]
    }
   ],
   "source": [
    "b = pd.Series([4,5,6,7], index = ['rat','dog','rabbit','duck'])\n",
    "print(b)"
   ]
  },
  {
   "cell_type": "code",
   "execution_count": null,
   "id": "4d286a5a-930f-4bbc-a76e-6f72acc9f04b",
   "metadata": {},
   "outputs": [],
   "source": []
  },
  {
   "cell_type": "code",
   "execution_count": 12,
   "id": "83aa263e-bea2-4d20-b6fc-e1e815984692",
   "metadata": {},
   "outputs": [
    {
     "name": "stdout",
     "output_type": "stream",
     "text": [
      "            name  age    occupation\n",
      "0      Obaloluwa    4  Data analyst\n",
      "1  Oluwafikayomi    2        Doctor\n",
      "2         Pampam    5      Engineer\n",
      "3       Michelle    2        Lawyer\n"
     ]
    }
   ],
   "source": [
    "# Creating a series of a two-dimensional datasheet\n",
    "# Create a data frame\n",
    "data = {'name':['Obaloluwa','Oluwafikayomi','Pampam','Michelle'], 'age':[4,2,5,2], 'occupation':['Data analyst','Doctor','Engineer','Lawyer']}\n",
    "df = pd.DataFrame(data)\n",
    "print(df)"
   ]
  },
  {
   "cell_type": "code",
   "execution_count": null,
   "id": "b1d47bf7-2f68-4483-a8c1-797c3edffd75",
   "metadata": {},
   "outputs": [],
   "source": []
  },
  {
   "cell_type": "code",
   "execution_count": 13,
   "id": "61f0953e-4b4c-41e0-aff3-d4b435c3d25e",
   "metadata": {},
   "outputs": [
    {
     "name": "stdout",
     "output_type": "stream",
     "text": [
      "rat       4\n",
      "dog       6\n",
      "rabbit    7\n",
      "duck      9\n",
      "dtype: int64\n"
     ]
    }
   ],
   "source": [
    "#creating a label\n",
    "b = [4,6,7,9]\n",
    "myVar = pd.Series(b, index = ['rat','dog','rabbit','duck'])\n",
    "print(myVar)"
   ]
  },
  {
   "cell_type": "code",
   "execution_count": 14,
   "id": "68c68004-9622-4652-9b4f-de5677d3aa32",
   "metadata": {},
   "outputs": [
    {
     "name": "stdout",
     "output_type": "stream",
     "text": [
      "9\n"
     ]
    }
   ],
   "source": [
    "# Let us get the value of duck\n",
    "\n",
    "print(myVar['duck'])"
   ]
  },
  {
   "cell_type": "code",
   "execution_count": null,
   "id": "150757ec-03e3-45d8-9824-d962f08048bc",
   "metadata": {},
   "outputs": [],
   "source": []
  },
  {
   "cell_type": "code",
   "execution_count": 18,
   "id": "8ce5186d-7541-449b-ae87-32927a53dddb",
   "metadata": {},
   "outputs": [
    {
     "name": "stdout",
     "output_type": "stream",
     "text": [
      "         state  capital\n",
      "0         Ondo    Akure\n",
      "1        Gombe    Gombe\n",
      "2  Cross river  Calabar\n",
      "3         Kano     Kano\n"
     ]
    }
   ],
   "source": [
    "#Let us create a data frame for state and capital\n",
    "\n",
    "c = {'state':['Ondo','Gombe','Cross river','Kano'], 'capital':['Akure','Gombe','Calabar','Kano']}\n",
    "df_1 = pd.DataFrame(c)\n",
    "print(df_1)"
   ]
  },
  {
   "cell_type": "code",
   "execution_count": null,
   "id": "a7c73250-a206-40da-a482-f975ed3eb89a",
   "metadata": {},
   "outputs": [],
   "source": []
  },
  {
   "cell_type": "code",
   "execution_count": 21,
   "id": "1dad78fb-3baa-41ca-bba5-e31ccc1eaf39",
   "metadata": {},
   "outputs": [
    {
     "data": {
      "text/plain": [
       "state      Cross river\n",
       "capital        Calabar\n",
       "Name: 2, dtype: object"
      ]
     },
     "execution_count": 21,
     "metadata": {},
     "output_type": "execute_result"
    }
   ],
   "source": [
    "#locate special row ;;;; loc = categorical locator, iloc = integer locator\n",
    "df_1.loc[2]"
   ]
  },
  {
   "cell_type": "code",
   "execution_count": null,
   "id": "7d35b32e-66a3-41dd-96ab-4c1034835d32",
   "metadata": {},
   "outputs": [],
   "source": []
  },
  {
   "cell_type": "code",
   "execution_count": 22,
   "id": "7c7b8690-fe66-48a1-9a24-7d61e63877aa",
   "metadata": {},
   "outputs": [],
   "source": [
    "#create a dataframe\n",
    "d = {'country':['usa','usa','italy','italy'], 'sales': [100, 200,50,75]}\n",
    "df_2 = pd.DataFrame(d)"
   ]
  },
  {
   "cell_type": "code",
   "execution_count": 23,
   "id": "b5e2a67c-1785-42e7-9af6-548fb6ca6ce4",
   "metadata": {},
   "outputs": [
    {
     "name": "stdout",
     "output_type": "stream",
     "text": [
      "  country  sales\n",
      "0     usa    100\n",
      "1     usa    200\n",
      "2   italy     50\n",
      "3   italy     75\n"
     ]
    }
   ],
   "source": [
    "print(df_2)"
   ]
  },
  {
   "cell_type": "code",
   "execution_count": 26,
   "id": "40d95434-2655-44ff-97e2-74c075461aad",
   "metadata": {},
   "outputs": [],
   "source": [
    "# to perform a groupby\n",
    "grouped_df_2 = df_2.groupby('country')['sales'].sum()"
   ]
  },
  {
   "cell_type": "code",
   "execution_count": 27,
   "id": "4fa07c1e-a6a6-492b-810d-4970c621219a",
   "metadata": {},
   "outputs": [
    {
     "name": "stdout",
     "output_type": "stream",
     "text": [
      "country\n",
      "italy    125\n",
      "usa      300\n",
      "Name: sales, dtype: int64\n"
     ]
    }
   ],
   "source": [
    "print(grouped_df_2)"
   ]
  },
  {
   "cell_type": "code",
   "execution_count": null,
   "id": "5a05d1f4-387e-4502-98c9-862871b59c67",
   "metadata": {},
   "outputs": [],
   "source": []
  },
  {
   "cell_type": "code",
   "execution_count": 34,
   "id": "ef1535b1-28f0-40c9-b86a-bb919d0ff79b",
   "metadata": {},
   "outputs": [
    {
     "name": "stdout",
     "output_type": "stream",
     "text": [
      "   Id  Name  Age\n",
      "0   1  John   23\n",
      "1   2  Jane   45\n",
      "2   3  Dayo   28\n"
     ]
    }
   ],
   "source": [
    "# Merging\n",
    "\n",
    "df_3 = pd.DataFrame({'Id':[1,2,3], 'Name':['John','Jane','Dayo']})\n",
    "df_4 = pd.DataFrame({'Id':[1,2,3], 'Age':[23,45,28]})\n",
    "\n",
    "# Join df_3 and df_4\n",
    "merged_dfs = pd.merge(df_3,df_4, on = 'Id')\n",
    "print(merged_dfs)"
   ]
  },
  {
   "cell_type": "code",
   "execution_count": null,
   "id": "7e2c2fab-a4f2-4b58-9a1f-106b3f65d68e",
   "metadata": {},
   "outputs": [],
   "source": []
  },
  {
   "cell_type": "code",
   "execution_count": 45,
   "id": "9baebf8c-192b-4c46-a4e2-5ad8e56315bf",
   "metadata": {},
   "outputs": [
    {
     "name": "stdout",
     "output_type": "stream",
     "text": [
      "year    2020 2021 2023\n",
      "country               \n",
      "italy     50   75  NaN\n",
      "nigeria  NaN  NaN     \n",
      "usa      100  200  NaN\n"
     ]
    },
    {
     "data": {
      "text/plain": [
       "<bound method NDFrame.describe of    country  year sales\n",
       "0      usa  2020   100\n",
       "1      usa  2021   200\n",
       "2    italy  2020    50\n",
       "3    italy  2021    75\n",
       "4  nigeria  2023      >"
      ]
     },
     "execution_count": 45,
     "metadata": {},
     "output_type": "execute_result"
    }
   ],
   "source": [
    "# pivoting \n",
    "import pandas as pd\n",
    "#create data frame \n",
    "data2 = {'country':['usa','usa','italy','italy', 'nigeria'],'year':[2020,2021,2020,2021, 2023],'sales': [100, 200,50,75,'']}\n",
    "df_5 = pd.DataFrame(data2)\n",
    "\n",
    "#pivot df\n",
    "pivoted_df = df_5.pivot(index = 'country', columns = 'year', values = 'sales')\n",
    "print(pivoted_df)\n",
    "df_5.describe"
   ]
  },
  {
   "cell_type": "code",
   "execution_count": null,
   "id": "9f380bb7-3cf8-4357-a64c-9b4b4d404b93",
   "metadata": {},
   "outputs": [],
   "source": []
  }
 ],
 "metadata": {
  "kernelspec": {
   "display_name": "Python 3 (ipykernel)",
   "language": "python",
   "name": "python3"
  },
  "language_info": {
   "codemirror_mode": {
    "name": "ipython",
    "version": 3
   },
   "file_extension": ".py",
   "mimetype": "text/x-python",
   "name": "python",
   "nbconvert_exporter": "python",
   "pygments_lexer": "ipython3",
   "version": "3.12.4"
  }
 },
 "nbformat": 4,
 "nbformat_minor": 5
}
