{
 "cells": [
  {
   "cell_type": "markdown",
   "id": "77dd11fc-138b-4801-9ecf-d6410077c736",
   "metadata": {},
   "source": [
    "# Numpy"
   ]
  },
  {
   "cell_type": "raw",
   "id": "c065c61e-83ff-4f2a-ac10-8029b4b89f0c",
   "metadata": {},
   "source": [
    "It simply means numerical Python. It is a library working with arrays and mathematical operations.\n",
    "\n",
    "Key areas to focus on are:\n",
    "1. Multi-dimensional array\n",
    "2. Vectorized operations\n",
    "3. Random Number generation\n",
    "4. Data type support"
   ]
  },
  {
   "cell_type": "code",
   "execution_count": 1,
   "id": "a90feb20-3755-415d-8aa6-2ac299e0bf7d",
   "metadata": {},
   "outputs": [],
   "source": [
    "# first of all, import numpy\n",
    "\n",
    "import numpy as np"
   ]
  },
  {
   "cell_type": "code",
   "execution_count": 5,
   "id": "517e0a1c-c71d-41c4-9fb8-a6a555732221",
   "metadata": {},
   "outputs": [],
   "source": [
    "# generating a list of random numbers\n",
    "\n",
    "arr0 = np.random.rand(3,4)"
   ]
  },
  {
   "cell_type": "code",
   "execution_count": 6,
   "id": "7fc791eb-17d2-4a61-b745-c832e51cffd4",
   "metadata": {},
   "outputs": [],
   "source": [
    "# to form a list\n",
    "\n",
    "arr1 = np.array([1,2,3,4,5,6,7,8])\n",
    "arr2 = np.array([9,10,11,12,13,14,15,16])"
   ]
  },
  {
   "cell_type": "code",
   "execution_count": 7,
   "id": "fc73a93e-94ab-4018-bb10-e7331cd95bf3",
   "metadata": {},
   "outputs": [],
   "source": [
    "# performing addition\n",
    "\n",
    "result1 = arr1 + arr2"
   ]
  },
  {
   "cell_type": "code",
   "execution_count": 8,
   "id": "bef65002-eb9c-45ef-b4f0-dabaccc0302b",
   "metadata": {},
   "outputs": [
    {
     "name": "stdout",
     "output_type": "stream",
     "text": [
      "[10 12 14 16 18 20 22 24]\n"
     ]
    }
   ],
   "source": [
    "print(result1)"
   ]
  },
  {
   "cell_type": "code",
   "execution_count": 11,
   "id": "7648a181-81bd-4e3d-85e9-212284ebf18f",
   "metadata": {},
   "outputs": [
    {
     "name": "stdout",
     "output_type": "stream",
     "text": [
      "[-8 -8 -8 -8 -8 -8 -8 -8]\n"
     ]
    }
   ],
   "source": [
    "# performing subtraction\n",
    "\n",
    "result2 = arr1 - arr2\n",
    "print(result2)"
   ]
  },
  {
   "cell_type": "code",
   "execution_count": 12,
   "id": "d093e2fc-331a-4556-b0b9-6fea411181e1",
   "metadata": {},
   "outputs": [
    {
     "name": "stdout",
     "output_type": "stream",
     "text": [
      "[  9  20  33  48  65  84 105 128]\n"
     ]
    }
   ],
   "source": [
    "# performing multiplication\n",
    "\n",
    "result3 = arr1 * arr2\n",
    "print(result3)"
   ]
  },
  {
   "cell_type": "code",
   "execution_count": 13,
   "id": "7d1da248-202d-4498-85fa-99707f06ff17",
   "metadata": {},
   "outputs": [
    {
     "name": "stdout",
     "output_type": "stream",
     "text": [
      "[0.11111111 0.2        0.27272727 0.33333333 0.38461538 0.42857143\n",
      " 0.46666667 0.5       ]\n"
     ]
    }
   ],
   "source": [
    "# performing dividion\n",
    "\n",
    "result4 = arr1 / arr2\n",
    "print(result4)"
   ]
  },
  {
   "cell_type": "code",
   "execution_count": null,
   "id": "35938678-fab2-4522-ab22-b7609db64baa",
   "metadata": {},
   "outputs": [],
   "source": []
  },
  {
   "cell_type": "code",
   "execution_count": 19,
   "id": "e1ba80f0-c8ec-4300-ae8c-7d249ed374d0",
   "metadata": {},
   "outputs": [
    {
     "name": "stdout",
     "output_type": "stream",
     "text": [
      "9\n",
      "10\n",
      "11\n",
      "12\n",
      "13\n",
      "14\n",
      "16\n"
     ]
    }
   ],
   "source": [
    "# Creating a numpy array indexing and slicing\n",
    "print(arr2[0])\n",
    "print(arr2[1])\n",
    "print(arr2[2])\n",
    "print(arr2[3])\n",
    "print(arr2[4])\n",
    "print(arr2[5])\n",
    "print(arr2[-1])"
   ]
  },
  {
   "cell_type": "code",
   "execution_count": 23,
   "id": "27be4183-41cb-4d02-a8d7-b4a975396aa4",
   "metadata": {},
   "outputs": [
    {
     "name": "stdout",
     "output_type": "stream",
     "text": [
      "[2 3 4]\n",
      "[1 2 3 4 5 6]\n",
      "[3 4 5 6 7 8]\n"
     ]
    }
   ],
   "source": [
    "print(arr[1:4])\n",
    "print(arr[:6])\n",
    "print(arr[2:])"
   ]
  },
  {
   "cell_type": "code",
   "execution_count": 24,
   "id": "0618b38d-6da9-4f84-9164-aba720bbee5d",
   "metadata": {},
   "outputs": [
    {
     "name": "stdout",
     "output_type": "stream",
     "text": [
      "[[0.18113545 0.25585507 0.03287313 0.89238538]\n",
      " [0.36440798 0.97533977 0.85856408 0.9632565 ]\n",
      " [0.6490702  0.55569558 0.71679459 0.85252285]]\n"
     ]
    }
   ],
   "source": [
    "print(arr0)"
   ]
  },
  {
   "cell_type": "code",
   "execution_count": 27,
   "id": "4e40f3bf-7ba3-493c-bed8-9997d88e669b",
   "metadata": {},
   "outputs": [
    {
     "name": "stdout",
     "output_type": "stream",
     "text": [
      "[[0.18113545 0.25585507]\n",
      " [0.03287313 0.89238538]\n",
      " [0.36440798 0.97533977]\n",
      " [0.85856408 0.9632565 ]\n",
      " [0.6490702  0.55569558]\n",
      " [0.71679459 0.85252285]]\n"
     ]
    }
   ],
   "source": [
    "print(arr0.reshape(6,2))"
   ]
  },
  {
   "cell_type": "code",
   "execution_count": 26,
   "id": "39f27528-4e71-416a-a83c-da360ec87095",
   "metadata": {},
   "outputs": [
    {
     "name": "stdout",
     "output_type": "stream",
     "text": [
      "[[0.18113545 0.25585507 0.03287313 0.89238538]\n",
      " [0.36440798 0.97533977 0.85856408 0.9632565 ]\n",
      " [0.6490702  0.55569558 0.71679459 0.85252285]]\n"
     ]
    }
   ],
   "source": [
    "print(arr0)"
   ]
  },
  {
   "cell_type": "code",
   "execution_count": null,
   "id": "45036cb7-5647-4501-bc8e-ddadbaffcc46",
   "metadata": {},
   "outputs": [],
   "source": []
  },
  {
   "cell_type": "code",
   "execution_count": 28,
   "id": "61400898-459a-44f7-850e-12043e932428",
   "metadata": {},
   "outputs": [],
   "source": [
    "# performing numpy with aggregate function\n",
    "arr3 = arr0.reshape(6,2)"
   ]
  },
  {
   "cell_type": "code",
   "execution_count": 29,
   "id": "8428d955-b845-4092-9de9-66dcfd3fc4ec",
   "metadata": {},
   "outputs": [
    {
     "name": "stdout",
     "output_type": "stream",
     "text": [
      "[[0.18113545 0.25585507]\n",
      " [0.03287313 0.89238538]\n",
      " [0.36440798 0.97533977]\n",
      " [0.85856408 0.9632565 ]\n",
      " [0.6490702  0.55569558]\n",
      " [0.71679459 0.85252285]]\n"
     ]
    }
   ],
   "source": [
    "print(arr3)"
   ]
  },
  {
   "cell_type": "code",
   "execution_count": 30,
   "id": "a0a384c4-97e3-411e-a5f5-a75337f70907",
   "metadata": {},
   "outputs": [
    {
     "name": "stdout",
     "output_type": "stream",
     "text": [
      "7.297900556648125\n"
     ]
    }
   ],
   "source": [
    "print(np.sum(arr3))"
   ]
  },
  {
   "cell_type": "code",
   "execution_count": 32,
   "id": "493d673e-7d71-49e7-a07b-477693e18786",
   "metadata": {},
   "outputs": [
    {
     "name": "stdout",
     "output_type": "stream",
     "text": [
      "0.6081583797206771\n"
     ]
    }
   ],
   "source": [
    "# performing mean\n",
    "print(np.mean(arr3))"
   ]
  },
  {
   "cell_type": "code",
   "execution_count": 33,
   "id": "188b6601-bf81-4390-bdc7-aee0e7279b8a",
   "metadata": {},
   "outputs": [
    {
     "data": {
      "text/plain": [
       "array([[0.18113545, 0.25585507],\n",
       "       [0.03287313, 0.89238538],\n",
       "       [0.36440798, 0.97533977],\n",
       "       [0.85856408, 0.9632565 ],\n",
       "       [0.55569558, 0.6490702 ],\n",
       "       [0.71679459, 0.85252285]])"
      ]
     },
     "execution_count": 33,
     "metadata": {},
     "output_type": "execute_result"
    }
   ],
   "source": [
    "np.sort(arr3)"
   ]
  },
  {
   "cell_type": "code",
   "execution_count": 36,
   "id": "75d80bcb-c267-4bfe-8034-fd8af23279eb",
   "metadata": {},
   "outputs": [],
   "source": [
    "# Broadcasting\n",
    "\n",
    "arr4 = np.array([12,34,46,78])\n",
    "arr5 = np.array([108])\n",
    "result5 = arr4 + arr5"
   ]
  },
  {
   "cell_type": "code",
   "execution_count": 37,
   "id": "20c5ab6d-b1b6-4b64-be14-0e3c64c0f00a",
   "metadata": {},
   "outputs": [
    {
     "name": "stdout",
     "output_type": "stream",
     "text": [
      "[120 142 154 186]\n"
     ]
    }
   ],
   "source": [
    "print(result5)"
   ]
  },
  {
   "cell_type": "raw",
   "id": "30142b76-f44d-49b1-96b7-05f675fe4ec7",
   "metadata": {},
   "source": []
  },
  {
   "cell_type": "code",
   "execution_count": 40,
   "id": "5cf5ff73-3abc-439a-a5d6-d8ed995aa678",
   "metadata": {},
   "outputs": [],
   "source": [
    "#advance indexing\n",
    "\n",
    "arr6 = np.array([[2,6,3,8,5], [1,6,9,12,15]])"
   ]
  },
  {
   "cell_type": "code",
   "execution_count": 44,
   "id": "3010d5ad-a112-450a-a29f-c2a3e30b9ea0",
   "metadata": {},
   "outputs": [
    {
     "name": "stdout",
     "output_type": "stream",
     "text": [
      "8\n",
      "[[ 1  6  9 12 15]]\n",
      "[ 3 12]\n"
     ]
    }
   ],
   "source": [
    "#accessing rows and columns\n",
    "print(arr6[0,3])\n",
    "print(arr6[1:])\n",
    "print(arr6[[0,1], [2,3]])"
   ]
  },
  {
   "cell_type": "code",
   "execution_count": 47,
   "id": "131c32b0-1edf-4d77-bf1e-f19559970f8d",
   "metadata": {},
   "outputs": [
    {
     "name": "stdout",
     "output_type": "stream",
     "text": [
      "(2, 5)\n"
     ]
    }
   ],
   "source": [
    "print(arr6.shape)"
   ]
  },
  {
   "cell_type": "code",
   "execution_count": null,
   "id": "29ca813f-955d-4439-b041-6c57ee66ba32",
   "metadata": {},
   "outputs": [],
   "source": []
  },
  {
   "cell_type": "code",
   "execution_count": 48,
   "id": "71522819-2b2b-4284-a9d0-c0511f64249c",
   "metadata": {},
   "outputs": [],
   "source": [
    "#Initializing different types of array\n",
    "# Zero matix\n",
    "\n",
    "arr7 = np.zeros(7)"
   ]
  },
  {
   "cell_type": "code",
   "execution_count": 49,
   "id": "a94571e0-4cfc-40f1-b93c-45492f25795a",
   "metadata": {},
   "outputs": [
    {
     "name": "stdout",
     "output_type": "stream",
     "text": [
      "[0. 0. 0. 0. 0. 0. 0.]\n"
     ]
    }
   ],
   "source": [
    "print(arr7)"
   ]
  },
  {
   "cell_type": "code",
   "execution_count": 50,
   "id": "e1f56094-6759-4ed7-8109-d7401abd2026",
   "metadata": {},
   "outputs": [],
   "source": [
    "arr8 = np.zeros([2,3,3,2])"
   ]
  },
  {
   "cell_type": "code",
   "execution_count": 51,
   "id": "9882c9d0-c536-451c-9d31-a3294b8283ab",
   "metadata": {},
   "outputs": [
    {
     "name": "stdout",
     "output_type": "stream",
     "text": [
      "[[[[0. 0.]\n",
      "   [0. 0.]\n",
      "   [0. 0.]]\n",
      "\n",
      "  [[0. 0.]\n",
      "   [0. 0.]\n",
      "   [0. 0.]]\n",
      "\n",
      "  [[0. 0.]\n",
      "   [0. 0.]\n",
      "   [0. 0.]]]\n",
      "\n",
      "\n",
      " [[[0. 0.]\n",
      "   [0. 0.]\n",
      "   [0. 0.]]\n",
      "\n",
      "  [[0. 0.]\n",
      "   [0. 0.]\n",
      "   [0. 0.]]\n",
      "\n",
      "  [[0. 0.]\n",
      "   [0. 0.]\n",
      "   [0. 0.]]]]\n"
     ]
    }
   ],
   "source": [
    "print(arr8)"
   ]
  },
  {
   "cell_type": "code",
   "execution_count": 62,
   "id": "98bc714c-1b9d-4c30-bfee-c11ff699a116",
   "metadata": {},
   "outputs": [],
   "source": [
    "arr9 = np.full((3,4),2)"
   ]
  },
  {
   "cell_type": "code",
   "execution_count": 63,
   "id": "b5839ddc-9bd3-4646-b8e7-816105aeee5e",
   "metadata": {},
   "outputs": [
    {
     "name": "stdout",
     "output_type": "stream",
     "text": [
      "[[2 2 2 2]\n",
      " [2 2 2 2]\n",
      " [2 2 2 2]]\n"
     ]
    }
   ],
   "source": [
    "print(arr9)"
   ]
  },
  {
   "cell_type": "code",
   "execution_count": null,
   "id": "013da549-ba4f-4229-a57f-690cb422ee18",
   "metadata": {},
   "outputs": [],
   "source": []
  },
  {
   "cell_type": "code",
   "execution_count": 71,
   "id": "a548c4f7-dd9e-4426-a628-103e84e109ca",
   "metadata": {},
   "outputs": [
    {
     "data": {
      "text/plain": [
       "array([[0.30569783, 0.25251845, 0.2473378 , 0.76457328, 0.18286793,\n",
       "        0.55001628, 0.51389067, 0.18443924, 0.78160963],\n",
       "       [0.84346401, 0.72076546, 0.99840044, 0.60332128, 0.89303473,\n",
       "        0.36205657, 0.16524555, 0.68336627, 0.57598969],\n",
       "       [0.59221669, 0.71157898, 0.21432531, 0.16404735, 0.48350982,\n",
       "        0.69629322, 0.59732032, 0.67264837, 0.81403808],\n",
       "       [0.7782325 , 0.51290423, 0.79121068, 0.82606353, 0.98101472,\n",
       "        0.95838874, 0.27133154, 0.60299858, 0.21127884],\n",
       "       [0.8975702 , 0.84777694, 0.12166267, 0.83956493, 0.15406499,\n",
       "        0.60091108, 0.66208094, 0.19332495, 0.47815769]])"
      ]
     },
     "execution_count": 71,
     "metadata": {},
     "output_type": "execute_result"
    }
   ],
   "source": [
    "# random decimal values\n",
    "\n",
    "np.random.rand(5,9)"
   ]
  },
  {
   "cell_type": "code",
   "execution_count": 70,
   "id": "4b164399-559e-42f4-9b31-b6057583e936",
   "metadata": {},
   "outputs": [
    {
     "data": {
      "text/plain": [
       "array([[3, 4, 4, 1],\n",
       "       [4, 4, 1, 4],\n",
       "       [0, 0, 4, 0]])"
      ]
     },
     "execution_count": 70,
     "metadata": {},
     "output_type": "execute_result"
    }
   ],
   "source": [
    "# random integer values\n",
    "\n",
    "np.random.randint(5, size = (3,4))"
   ]
  },
  {
   "cell_type": "code",
   "execution_count": 73,
   "id": "c85b2caf-0626-422a-8855-17c6d9b0be35",
   "metadata": {},
   "outputs": [
    {
     "data": {
      "text/plain": [
       "array([[1., 0., 0., 0., 0., 0., 0.],\n",
       "       [0., 1., 0., 0., 0., 0., 0.],\n",
       "       [0., 0., 1., 0., 0., 0., 0.],\n",
       "       [0., 0., 0., 1., 0., 0., 0.],\n",
       "       [0., 0., 0., 0., 1., 0., 0.],\n",
       "       [0., 0., 0., 0., 0., 1., 0.],\n",
       "       [0., 0., 0., 0., 0., 0., 1.]])"
      ]
     },
     "execution_count": 73,
     "metadata": {},
     "output_type": "execute_result"
    }
   ],
   "source": [
    "# Performing identity\n",
    "np.identity(7)"
   ]
  },
  {
   "cell_type": "code",
   "execution_count": 75,
   "id": "c779d193-b78b-40f1-a522-8f071f6d4f48",
   "metadata": {},
   "outputs": [],
   "source": [
    "# Joing two arrays\n",
    "arr10 = np.concatenate((arr1, arr2))"
   ]
  },
  {
   "cell_type": "code",
   "execution_count": 76,
   "id": "81b3f772-52c9-4be9-b5ce-9c0d80e314bf",
   "metadata": {},
   "outputs": [
    {
     "name": "stdout",
     "output_type": "stream",
     "text": [
      "[ 1  2  3  4  5  6  7  8  9 10 11 12 13 14 15 16]\n"
     ]
    }
   ],
   "source": [
    "print(arr10)"
   ]
  },
  {
   "cell_type": "code",
   "execution_count": 86,
   "id": "34558204-e7d4-4fd9-9575-87413fe46400",
   "metadata": {},
   "outputs": [],
   "source": [
    "arr11 = np.random.randint(4, size = (4,4))\n",
    "arr12 = np.random.randint(5, size = (4,4))"
   ]
  },
  {
   "cell_type": "code",
   "execution_count": 87,
   "id": "0ded1492-eb6a-42f2-8baf-ae7f6f805ca7",
   "metadata": {},
   "outputs": [
    {
     "name": "stdout",
     "output_type": "stream",
     "text": [
      "[[2 2 2 3]\n",
      " [2 0 0 0]\n",
      " [2 0 0 1]\n",
      " [2 1 1 0]]\n",
      "\n",
      "[[0 1 4 3]\n",
      " [1 4 2 1]\n",
      " [2 3 4 3]\n",
      " [4 0 3 0]]\n"
     ]
    }
   ],
   "source": [
    "print(arr11)\n",
    "print('')\n",
    "print(arr12)"
   ]
  },
  {
   "cell_type": "code",
   "execution_count": 88,
   "id": "398b004e-ff4d-4894-9a48-e26decb1d3bd",
   "metadata": {},
   "outputs": [],
   "source": [
    "result7 = np.concatenate((arr11,arr12))"
   ]
  },
  {
   "cell_type": "code",
   "execution_count": 89,
   "id": "6509c9b0-188d-45ba-8142-5e89b6be5e8a",
   "metadata": {},
   "outputs": [
    {
     "name": "stdout",
     "output_type": "stream",
     "text": [
      "[[2 2 2 3]\n",
      " [2 0 0 0]\n",
      " [2 0 0 1]\n",
      " [2 1 1 0]\n",
      " [0 1 4 3]\n",
      " [1 4 2 1]\n",
      " [2 3 4 3]\n",
      " [4 0 3 0]]\n"
     ]
    }
   ],
   "source": [
    "print(result7)"
   ]
  },
  {
   "cell_type": "code",
   "execution_count": null,
   "id": "519d51af-c0b8-4848-8cb5-34af1c1246bf",
   "metadata": {},
   "outputs": [],
   "source": []
  },
  {
   "cell_type": "code",
   "execution_count": 103,
   "id": "982b0cce-35ee-47e1-99a7-d3f6564b4a41",
   "metadata": {},
   "outputs": [],
   "source": [
    "# 2-D arrays along row(axis = 1)\n",
    "arr13 = arr11\n",
    "arr14 = arr12"
   ]
  },
  {
   "cell_type": "code",
   "execution_count": 106,
   "id": "bd7f416e-1d97-42b6-8df0-5c2a487f0c44",
   "metadata": {},
   "outputs": [
    {
     "name": "stdout",
     "output_type": "stream",
     "text": [
      "[[2 2 2 3]\n",
      " [2 0 0 0]\n",
      " [2 0 0 1]\n",
      " [2 1 1 0]]\n",
      "\n",
      "[[0 1 4 3]\n",
      " [1 4 2 1]\n",
      " [2 3 4 3]\n",
      " [4 0 3 0]]\n"
     ]
    }
   ],
   "source": [
    "print(arr13)\n",
    "print('')\n",
    "print(arr14)"
   ]
  },
  {
   "cell_type": "code",
   "execution_count": 99,
   "id": "687eba21-ad72-4839-ba5c-a71f8a211ce3",
   "metadata": {},
   "outputs": [
    {
     "name": "stdout",
     "output_type": "stream",
     "text": [
      "[[1 2 5 6]\n",
      " [3 4 7 8]]\n"
     ]
    }
   ],
   "source": [
    "# 2-D arrays along row(axis = 1)\n",
    "arra1 = np.array([[1,2], [3,4]])\n",
    "arra2 = np.array([[5,6], [7,8]])\n",
    "\n",
    "result_1 = np.concatenate((arra1, arra2), axis = 1)\n",
    "print(result_1)"
   ]
  },
  {
   "cell_type": "code",
   "execution_count": 105,
   "id": "a9624132-19f4-4f4e-8c61-f71a0c6f457c",
   "metadata": {},
   "outputs": [
    {
     "name": "stdout",
     "output_type": "stream",
     "text": [
      "[[[2 2 2 3]\n",
      "  [0 1 4 3]]\n",
      "\n",
      " [[2 0 0 0]\n",
      "  [1 4 2 1]]\n",
      "\n",
      " [[2 0 0 1]\n",
      "  [2 3 4 3]]\n",
      "\n",
      " [[2 1 1 0]\n",
      "  [4 0 3 0]]]\n"
     ]
    }
   ],
   "source": [
    "result_2 = np.stack((arr13,arr14), axis=1)\n",
    "print(result_2)"
   ]
  },
  {
   "cell_type": "code",
   "execution_count": null,
   "id": "c15e6609-c6ae-4585-bfdc-ba38fe64b828",
   "metadata": {},
   "outputs": [],
   "source": []
  },
  {
   "cell_type": "code",
   "execution_count": 110,
   "id": "96d10fc2-3093-43bf-aa25-2a283af4da59",
   "metadata": {},
   "outputs": [
    {
     "name": "stdout",
     "output_type": "stream",
     "text": [
      "[array([1, 2, 3, 4]), array([5, 6, 7, 8]), array([ 9, 10, 11, 12]), array([13, 14, 15, 16])]\n"
     ]
    }
   ],
   "source": [
    "# Spliting numpy arrays\n",
    "\n",
    "result_3 = np.array_split(arr10, 4)\n",
    "print(result_3)"
   ]
  },
  {
   "cell_type": "code",
   "execution_count": 113,
   "id": "b5e51801-5c76-45f3-9ddc-4975198ff902",
   "metadata": {},
   "outputs": [
    {
     "name": "stdout",
     "output_type": "stream",
     "text": [
      "(array([3, 5, 6], dtype=int64),)\n"
     ]
    }
   ],
   "source": [
    "#array search \n",
    "arra3 = np.array([1,2,3,4,5,4,4])\n",
    "x = np.where(arra3 == 4)\n",
    "print(x)"
   ]
  },
  {
   "cell_type": "code",
   "execution_count": null,
   "id": "bdbedb65-1c56-49c0-af89-9affe6289830",
   "metadata": {},
   "outputs": [],
   "source": []
  },
  {
   "cell_type": "code",
   "execution_count": 114,
   "id": "e7001cf6-f593-432d-8df1-19a30c8ff80d",
   "metadata": {},
   "outputs": [
    {
     "name": "stdout",
     "output_type": "stream",
     "text": [
      "(array([1, 3, 5, 7], dtype=int64),)\n"
     ]
    }
   ],
   "source": [
    "# to find even value\n",
    "\n",
    "arra4 = np.array([1,2,3,4,5,6,7,8,9])\n",
    "y = np.where(arra4 % 2 == 0)\n",
    "print(y)"
   ]
  },
  {
   "cell_type": "code",
   "execution_count": 115,
   "id": "9152e6bc-ec8d-4ab3-8dad-8e9cf72242d4",
   "metadata": {},
   "outputs": [
    {
     "name": "stdout",
     "output_type": "stream",
     "text": [
      "(array([0, 2, 4, 6, 8], dtype=int64),)\n"
     ]
    }
   ],
   "source": [
    "# to find even value\n",
    "\n",
    "arra4 = np.array([1,2,3,4,5,6,7,8,9])\n",
    "y = np.where(arra4 % 2 == 1)\n",
    "print(y)"
   ]
  },
  {
   "cell_type": "code",
   "execution_count": null,
   "id": "e8ac5513-c14b-4959-b319-99b3f7a6b3bc",
   "metadata": {},
   "outputs": [],
   "source": []
  },
  {
   "cell_type": "code",
   "execution_count": 119,
   "id": "d0a43b62-489a-4bf9-9e6a-6ad98be0e3f3",
   "metadata": {},
   "outputs": [
    {
     "name": "stdout",
     "output_type": "stream",
     "text": [
      "[7 7 7 3 7 7 7 7 7 7 3 5 5 7 5 5 7 7 7 7 5 7 7 7 7 7 7 5 5 7 5 7 7 5 5 5 7\n",
      " 7 7 7 7 5 7 5 3 7 7 3 7 3 5 5 7 7 7 7 7 7 5 5 5 7 7 3 7 7 7 7 3 7 7 5 7 7\n",
      " 5 5 5 5 7 7 7 7 3 7 5 7 3 7 5 3 5 7 5 7 7 5 5 7 5 5]\n"
     ]
    }
   ],
   "source": [
    "#data distribution\n",
    "from numpy import random\n",
    "c = random.choice([3,5,7,9], p = [0.1,0.3,0.6,0.0], size=100)\n",
    "print(c)"
   ]
  },
  {
   "cell_type": "code",
   "execution_count": 122,
   "id": "24babc69-39d2-4d07-b4a6-37196b4cb97e",
   "metadata": {},
   "outputs": [
    {
     "name": "stdout",
     "output_type": "stream",
     "text": [
      "[[7 7 3 5 7]\n",
      " [7 7 7 7 5]\n",
      " [7 7 3 5 7]]\n"
     ]
    }
   ],
   "source": [
    "#data distribution\n",
    "from numpy import random\n",
    "d = random.choice([3,5,7,9], p = [0.1,0.3,0.6,0.0], size=(3,5))\n",
    "print(d)"
   ]
  },
  {
   "cell_type": "code",
   "execution_count": null,
   "id": "e60ee869-802a-452f-bbfc-8ec66a29c85d",
   "metadata": {},
   "outputs": [],
   "source": []
  }
 ],
 "metadata": {
  "kernelspec": {
   "display_name": "Python 3 (ipykernel)",
   "language": "python",
   "name": "python3"
  },
  "language_info": {
   "codemirror_mode": {
    "name": "ipython",
    "version": 3
   },
   "file_extension": ".py",
   "mimetype": "text/x-python",
   "name": "python",
   "nbconvert_exporter": "python",
   "pygments_lexer": "ipython3",
   "version": "3.12.4"
  }
 },
 "nbformat": 4,
 "nbformat_minor": 5
}
