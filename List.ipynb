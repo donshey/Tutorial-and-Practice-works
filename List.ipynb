{
 "cells": [
  {
   "cell_type": "markdown",
   "id": "6edfc099-1f19-4d11-89fd-e8ee31e78b0f",
   "metadata": {},
   "source": [
    "# List"
   ]
  },
  {
   "cell_type": "code",
   "execution_count": 1,
   "id": "819b67ee-9bb2-4d57-b7e3-00a6cb82c088",
   "metadata": {},
   "outputs": [
    {
     "name": "stdout",
     "output_type": "stream",
     "text": [
      "[1, 2, 3, 4, 5, 6, 7]\n"
     ]
    }
   ],
   "source": [
    "# Create a variable containing list of numbers\n",
    "numbers = [1,2,3,4,5,6,7]\n",
    "print(numbers)"
   ]
  },
  {
   "cell_type": "code",
   "execution_count": 2,
   "id": "ca9aa1dd-7c96-42cf-a50a-c3ec43fd8d39",
   "metadata": {},
   "outputs": [
    {
     "name": "stdout",
     "output_type": "stream",
     "text": [
      "<class 'list'>\n"
     ]
    }
   ],
   "source": [
    "#view what type of class the variable belong to\n",
    "print(type(numbers))"
   ]
  },
  {
   "cell_type": "code",
   "execution_count": 3,
   "id": "35773e8e-d11b-45e6-8530-89eda5b55f56",
   "metadata": {},
   "outputs": [],
   "source": [
    "# Create a variable containing list of of names\n",
    "names = ['Bayo','Tayo','Temi','Taves']"
   ]
  },
  {
   "cell_type": "code",
   "execution_count": 4,
   "id": "94578cdc-61c9-433d-acb9-b2944370f414",
   "metadata": {},
   "outputs": [
    {
     "name": "stdout",
     "output_type": "stream",
     "text": [
      "['Bayo', 'Tayo', 'Temi', 'Taves']\n"
     ]
    }
   ],
   "source": [
    "print(names)"
   ]
  },
  {
   "cell_type": "code",
   "execution_count": 5,
   "id": "47c915c7-a574-4319-b9b7-b6238abe8d63",
   "metadata": {},
   "outputs": [
    {
     "name": "stdout",
     "output_type": "stream",
     "text": [
      "1\n",
      "2\n",
      "3\n",
      "4\n",
      "5\n",
      "6\n",
      "7\n",
      "8\n",
      "9\n",
      "10\n",
      "11\n",
      "12\n",
      "13\n",
      "14\n",
      "15\n",
      "16\n",
      "17\n",
      "18\n",
      "19\n",
      "20\n",
      "21\n",
      "22\n",
      "23\n",
      "24\n",
      "25\n",
      "26\n",
      "27\n",
      "28\n",
      "29\n"
     ]
    }
   ],
   "source": [
    "#create a list a numbers in a range\n",
    "ranges = range(1,30)\n",
    "for i in ranges:\n",
    "    print(i)"
   ]
  },
  {
   "cell_type": "code",
   "execution_count": 8,
   "id": "9acdf348-481a-4434-93ba-18b19762feda",
   "metadata": {},
   "outputs": [
    {
     "name": "stdin",
     "output_type": "stream",
     "text": [
      "Enter your name yemi\n"
     ]
    },
    {
     "name": "stdout",
     "output_type": "stream",
     "text": [
      "1\n"
     ]
    },
    {
     "name": "stdin",
     "output_type": "stream",
     "text": [
      "Enter your name olomofe\n"
     ]
    },
    {
     "name": "stdout",
     "output_type": "stream",
     "text": [
      "2\n"
     ]
    },
    {
     "name": "stdin",
     "output_type": "stream",
     "text": [
      "Enter your name anthony\n"
     ]
    },
    {
     "name": "stdout",
     "output_type": "stream",
     "text": [
      "3\n"
     ]
    }
   ],
   "source": [
    "#performing a list operation with the input function\n",
    "for i in range(1,4):\n",
    "    a = input('Enter your name')\n",
    "    print(i)"
   ]
  },
  {
   "cell_type": "code",
   "execution_count": 10,
   "id": "24095f00-3156-4cb3-a4c3-eea428f92d88",
   "metadata": {},
   "outputs": [],
   "source": [
    "shoppingcarts = ['Handbag','Wig','Dresses','Shoes','Skirts','Bags']"
   ]
  },
  {
   "cell_type": "code",
   "execution_count": 11,
   "id": "9494297d-77e5-40f2-9bcf-e03ac46f7089",
   "metadata": {},
   "outputs": [
    {
     "name": "stdout",
     "output_type": "stream",
     "text": [
      "['Handbag', 'Wig', 'Dresses', 'Shoes', 'Skirts', 'Bags']\n"
     ]
    }
   ],
   "source": [
    "print(shoppingcarts)"
   ]
  },
  {
   "cell_type": "code",
   "execution_count": 12,
   "id": "928a0038-2ac8-43dc-bb89-cf7725ae9182",
   "metadata": {},
   "outputs": [],
   "source": [
    "#add an item to the list with the append function\n",
    "shoppingcarts.append('Bumshorts')"
   ]
  },
  {
   "cell_type": "code",
   "execution_count": 13,
   "id": "24a696ae-3bfe-434f-bc74-02ad0ca92ad8",
   "metadata": {},
   "outputs": [
    {
     "name": "stdout",
     "output_type": "stream",
     "text": [
      "['Handbag', 'Wig', 'Dresses', 'Shoes', 'Skirts', 'Bags', 'Bumshorts']\n"
     ]
    }
   ],
   "source": [
    "print(shoppingcarts)"
   ]
  },
  {
   "cell_type": "code",
   "execution_count": null,
   "id": "38f0a35d-c13c-4e17-8f23-015adceb2014",
   "metadata": {},
   "outputs": [],
   "source": []
  },
  {
   "cell_type": "code",
   "execution_count": 1,
   "id": "9a4629f5-0368-4bf0-8976-0d989e7c499d",
   "metadata": {},
   "outputs": [
    {
     "name": "stdout",
     "output_type": "stream",
     "text": [
      "['laptop', 'phones', 'charger', 'mouse', 'headphones']\n"
     ]
    }
   ],
   "source": [
    "# Create a shopping list containing some items\n",
    "shopping_cart = ['laptop', 'phones', 'charger', 'mouse', 'headphones']\n",
    "print(shopping_cart)"
   ]
  },
  {
   "cell_type": "code",
   "execution_count": 3,
   "id": "e725e2f0-e7c5-4e9d-a378-991ae6a07d06",
   "metadata": {},
   "outputs": [],
   "source": [
    "# Swap the item one with item 2\n",
    "shopping_cart[0], shopping_cart[1] = shopping_cart[1], shopping_cart[0]"
   ]
  },
  {
   "cell_type": "code",
   "execution_count": 4,
   "id": "b939a3ce-6217-4895-a5c1-d1c4dd0fcb16",
   "metadata": {},
   "outputs": [
    {
     "name": "stdout",
     "output_type": "stream",
     "text": [
      "['phones', 'laptop', 'charger', 'mouse', 'headphones']\n"
     ]
    }
   ],
   "source": [
    "print(shopping_cart)#use the insert"
   ]
  },
  {
   "cell_type": "code",
   "execution_count": 7,
   "id": "c3aba266-2968-4a3f-83f2-11ae7d7eadaa",
   "metadata": {},
   "outputs": [],
   "source": [
    "#use the concatenate function to add two items\n",
    "shopping_carts = shopping_cart + ['mousepad', 'battery']"
   ]
  },
  {
   "cell_type": "code",
   "execution_count": 8,
   "id": "e5681c8a-b668-4d50-8d6d-4474bc7fe1a4",
   "metadata": {},
   "outputs": [
    {
     "name": "stdout",
     "output_type": "stream",
     "text": [
      "['phones', 'laptop', 'charger', 'mouse', 'headphones', 'mousepad', 'battery']\n"
     ]
    }
   ],
   "source": [
    "print(shopping_carts)"
   ]
  },
  {
   "cell_type": "code",
   "execution_count": 9,
   "id": "46f31bbd-34af-4515-8162-9109f67f1061",
   "metadata": {},
   "outputs": [],
   "source": [
    "# Use the append function to add an item to the list\n",
    "shopping_carts.append('keyboard')"
   ]
  },
  {
   "cell_type": "code",
   "execution_count": 10,
   "id": "1cf2cce0-8683-4514-baeb-6879c3eca995",
   "metadata": {},
   "outputs": [
    {
     "name": "stdout",
     "output_type": "stream",
     "text": [
      "['phones', 'laptop', 'charger', 'mouse', 'headphones', 'mousepad', 'battery', 'keyboard']\n"
     ]
    }
   ],
   "source": [
    "print(shopping_carts)"
   ]
  },
  {
   "cell_type": "code",
   "execution_count": 15,
   "id": "e7de2c09-7f95-42e4-a060-194a68a4e590",
   "metadata": {},
   "outputs": [],
   "source": [
    "# Use the insert function to add an item at index 0\n",
    "shopping_carts.insert(0,'bagpack')"
   ]
  },
  {
   "cell_type": "code",
   "execution_count": 16,
   "id": "048b2fc1-536f-421b-8e79-a6e21a4a57b0",
   "metadata": {},
   "outputs": [
    {
     "name": "stdout",
     "output_type": "stream",
     "text": [
      "['bagpack', 'phones', 'laptop', 'charger', 'mouse', 'headphones', 'mousepad', 'battery', 'keyboard']\n"
     ]
    }
   ],
   "source": [
    "print(shopping_carts)"
   ]
  },
  {
   "cell_type": "code",
   "execution_count": 17,
   "id": "4b0944e5-e299-47c0-94a4-d7d70bdbfec2",
   "metadata": {},
   "outputs": [
    {
     "name": "stdout",
     "output_type": "stream",
     "text": [
      "bagpack\n",
      "phones\n",
      "laptop\n",
      "charger\n",
      "mouse\n",
      "headphones\n",
      "mousepad\n",
      "battery\n",
      "keyboard\n"
     ]
    }
   ],
   "source": [
    "# Task 3\n",
    "# Use the for loop function to run the list of items in your shopping cart\n",
    "for items in shopping_carts:\n",
    "    print(items)"
   ]
  },
  {
   "cell_type": "code",
   "execution_count": 19,
   "id": "6bc9eb7a-ba31-4811-8452-188cbfd20ab3",
   "metadata": {},
   "outputs": [
    {
     "data": {
      "text/plain": [
       "'keyboard'"
      ]
     },
     "execution_count": 19,
     "metadata": {},
     "output_type": "execute_result"
    }
   ],
   "source": [
    "# Replace the last item with any item of your choice\n",
    "shopping_carts.pop(8)"
   ]
  },
  {
   "cell_type": "code",
   "execution_count": 20,
   "id": "2040bebd-4da0-48b7-92ac-5b415cabd02c",
   "metadata": {},
   "outputs": [
    {
     "name": "stdout",
     "output_type": "stream",
     "text": [
      "['bagpack', 'phones', 'laptop', 'charger', 'mouse', 'headphones', 'mousepad', 'battery']\n"
     ]
    }
   ],
   "source": [
    "print(shopping_carts)"
   ]
  },
  {
   "cell_type": "code",
   "execution_count": 21,
   "id": "306da160-334c-4b6a-90f9-b264b5fd4837",
   "metadata": {},
   "outputs": [],
   "source": [
    "shopping_carts.append('printer')"
   ]
  },
  {
   "cell_type": "code",
   "execution_count": 22,
   "id": "c96efa09-8cd8-422d-9ee2-4d67050aec61",
   "metadata": {},
   "outputs": [
    {
     "data": {
      "text/plain": [
       "['bagpack',\n",
       " 'phones',\n",
       " 'laptop',\n",
       " 'charger',\n",
       " 'mouse',\n",
       " 'headphones',\n",
       " 'mousepad',\n",
       " 'battery',\n",
       " 'printer']"
      ]
     },
     "execution_count": 22,
     "metadata": {},
     "output_type": "execute_result"
    }
   ],
   "source": [
    "shopping_carts"
   ]
  },
  {
   "cell_type": "code",
   "execution_count": 23,
   "id": "a7e8a274-3f77-418f-a4dd-7c062aa88bc2",
   "metadata": {},
   "outputs": [
    {
     "name": "stdout",
     "output_type": "stream",
     "text": [
      "['bagpack', 'phones', 'laptop', 'charger', 'mouse', 'headphones', 'mousepad', 'battery', 'printer']\n"
     ]
    }
   ],
   "source": [
    "print(shopping_carts)"
   ]
  },
  {
   "cell_type": "code",
   "execution_count": null,
   "id": "6d94fd1a-3387-4671-8726-5cc1fa5d60c2",
   "metadata": {},
   "outputs": [],
   "source": []
  },
  {
   "cell_type": "code",
   "execution_count": 1,
   "id": "fb6fa08b-1e5e-4252-942a-7ed7045a8bf1",
   "metadata": {},
   "outputs": [
    {
     "name": "stdout",
     "output_type": "stream",
     "text": [
      "['apple', 'banana', 'cherry', 'date', 'fig']\n"
     ]
    }
   ],
   "source": [
    "# Let's create a list called fruits then print\n",
    "fruits = ['apple','banana','cherry','date','fig']\n",
    "print(fruits)"
   ]
  },
  {
   "cell_type": "code",
   "execution_count": 2,
   "id": "caf7d144-d19e-4c84-acb1-72a142b52605",
   "metadata": {},
   "outputs": [
    {
     "name": "stdout",
     "output_type": "stream",
     "text": [
      "['apple', 'banana', 'cherry', 'date', 'fig']\n"
     ]
    },
    {
     "ename": "TypeError",
     "evalue": "'NoneType' object is not subscriptable",
     "output_type": "error",
     "traceback": [
      "\u001b[1;31m---------------------------------------------------------------------------\u001b[0m",
      "\u001b[1;31mTypeError\u001b[0m                                 Traceback (most recent call last)",
      "Cell \u001b[1;32mIn[2], line 2\u001b[0m\n\u001b[0;32m      1\u001b[0m \u001b[38;5;66;03m# Me trying to print the first and last item in the list to see if it works.\u001b[39;00m\n\u001b[1;32m----> 2\u001b[0m \u001b[38;5;28mprint\u001b[39m(fruits)[\u001b[38;5;241m0\u001b[39m][\u001b[38;5;241m-\u001b[39m\u001b[38;5;241m1\u001b[39m]\n",
      "\u001b[1;31mTypeError\u001b[0m: 'NoneType' object is not subscriptable"
     ]
    }
   ],
   "source": [
    "# Me trying to print the first and last item in the list to see if it works.\n",
    "print(fruits)[0][-1]"
   ]
  },
  {
   "cell_type": "code",
   "execution_count": 3,
   "id": "a3b2fa03-c19e-416c-a868-9212d282abd5",
   "metadata": {},
   "outputs": [
    {
     "name": "stdout",
     "output_type": "stream",
     "text": [
      "['apple', 'banana', 'cherry', 'date', 'fig']\n"
     ]
    },
    {
     "ename": "TypeError",
     "evalue": "'NoneType' object is not subscriptable",
     "output_type": "error",
     "traceback": [
      "\u001b[1;31m---------------------------------------------------------------------------\u001b[0m",
      "\u001b[1;31mTypeError\u001b[0m                                 Traceback (most recent call last)",
      "Cell \u001b[1;32mIn[3], line 1\u001b[0m\n\u001b[1;32m----> 1\u001b[0m \u001b[38;5;28mprint\u001b[39m(fruits)[\u001b[38;5;241m0\u001b[39m]\n",
      "\u001b[1;31mTypeError\u001b[0m: 'NoneType' object is not subscriptable"
     ]
    }
   ],
   "source": [
    "print(fruits)[0]"
   ]
  },
  {
   "cell_type": "code",
   "execution_count": 4,
   "id": "63db83d3-7d09-42a4-be89-472eb5419833",
   "metadata": {},
   "outputs": [
    {
     "name": "stdout",
     "output_type": "stream",
     "text": [
      "apple\n"
     ]
    }
   ],
   "source": [
    "# This is the first item\n",
    "print(fruits[0])"
   ]
  },
  {
   "cell_type": "code",
   "execution_count": 5,
   "id": "db6e1b9e-5738-4f69-8d06-e440b2d165cf",
   "metadata": {},
   "outputs": [
    {
     "name": "stdout",
     "output_type": "stream",
     "text": [
      "fig\n"
     ]
    }
   ],
   "source": [
    "# Th is is the last item\n",
    "print(fruits[-1])"
   ]
  },
  {
   "cell_type": "code",
   "execution_count": 7,
   "id": "3b886e41-eb81-410e-897e-59415edece75",
   "metadata": {},
   "outputs": [
    {
     "name": "stdout",
     "output_type": "stream",
     "text": [
      "('apple', 'fig')\n"
     ]
    }
   ],
   "source": [
    "# or it can be done this way\n",
    "first_last_fruit_item = (fruits[0], fruits[-1])\n",
    "print(first_last_fruit_item)"
   ]
  },
  {
   "cell_type": "code",
   "execution_count": 8,
   "id": "d320f90c-f53f-4228-9daa-99b08fcc1da6",
   "metadata": {},
   "outputs": [],
   "source": [
    "# let's replace the 2nd item with blueberry\n",
    "fruits[1] = 'blueberry'"
   ]
  },
  {
   "cell_type": "code",
   "execution_count": 9,
   "id": "c4758416-5a8e-41db-b587-5c76e7b4876d",
   "metadata": {},
   "outputs": [
    {
     "name": "stdout",
     "output_type": "stream",
     "text": [
      "['apple', 'blueberry', 'cherry', 'date', 'fig']\n"
     ]
    }
   ],
   "source": [
    "print(fruits)"
   ]
  },
  {
   "cell_type": "code",
   "execution_count": 10,
   "id": "004479f3-6ba2-41b3-8213-1e54ee259d48",
   "metadata": {},
   "outputs": [
    {
     "name": "stdout",
     "output_type": "stream",
     "text": [
      "5\n"
     ]
    }
   ],
   "source": [
    "# printing the length of the fruits in the list\n",
    "print(len(fruits))"
   ]
  },
  {
   "cell_type": "code",
   "execution_count": 11,
   "id": "2ff21bc1-8e15-4f67-9826-adc56d6e3ca9",
   "metadata": {},
   "outputs": [],
   "source": [
    "# Creating a new list called colors\n",
    "colors = ['red','green','blue']"
   ]
  },
  {
   "cell_type": "code",
   "execution_count": 12,
   "id": "e3f70324-799b-4a67-8f47-36e43fd8429c",
   "metadata": {},
   "outputs": [
    {
     "name": "stdout",
     "output_type": "stream",
     "text": [
      "None\n"
     ]
    }
   ],
   "source": [
    "# Adding a new color to the list using an append then print\n",
    "print(colors.append('yellow'))"
   ]
  },
  {
   "cell_type": "code",
   "execution_count": 13,
   "id": "a9e4ce20-5552-4fb1-89f8-a1de55d0ca7e",
   "metadata": {},
   "outputs": [
    {
     "name": "stdout",
     "output_type": "stream",
     "text": [
      "['red', 'green', 'blue', 'yellow']\n"
     ]
    }
   ],
   "source": [
    "print(colors)"
   ]
  },
  {
   "cell_type": "code",
   "execution_count": 14,
   "id": "130c4e3a-836a-4a15-9de8-f1844ffa9996",
   "metadata": {},
   "outputs": [],
   "source": [
    "# I am using the insert method to add an item to the list on the 2nd position.\n",
    "colors.insert(1,'purple')"
   ]
  },
  {
   "cell_type": "code",
   "execution_count": 15,
   "id": "3fee0631-f60e-4f36-a065-a04e2f89a038",
   "metadata": {},
   "outputs": [
    {
     "name": "stdout",
     "output_type": "stream",
     "text": [
      "['red', 'purple', 'green', 'blue', 'yellow']\n"
     ]
    }
   ],
   "source": [
    "print(colors)"
   ]
  },
  {
   "cell_type": "code",
   "execution_count": 17,
   "id": "716addb4-6caf-4b83-b852-2b95dd8f6834",
   "metadata": {},
   "outputs": [],
   "source": [
    "# I am going to add 3 more colors to the list using '+'\n",
    "colors = colors + ['pink','brown','burgundy']"
   ]
  },
  {
   "cell_type": "code",
   "execution_count": 16,
   "id": "321bdb74-4b09-49fe-9cdf-73054318e924",
   "metadata": {},
   "outputs": [
    {
     "name": "stdout",
     "output_type": "stream",
     "text": [
      "['red', 'purple', 'green', 'blue', 'yellow']\n"
     ]
    }
   ],
   "source": [
    "print(colors)"
   ]
  },
  {
   "cell_type": "code",
   "execution_count": 18,
   "id": "569bb2ab-1c78-40f4-9497-ce5d2f5b0ede",
   "metadata": {},
   "outputs": [
    {
     "name": "stdout",
     "output_type": "stream",
     "text": [
      "['red', 'purple', 'green', 'blue', 'yellow', 'pink', 'brown', 'burgundy']\n"
     ]
    }
   ],
   "source": [
    "print(colors)"
   ]
  },
  {
   "cell_type": "code",
   "execution_count": 19,
   "id": "3ebc22d8-9f6e-43a7-a6de-f979b17fd601",
   "metadata": {},
   "outputs": [],
   "source": [
    "# A further addition to the list using extend then print\n",
    "colors.extend(['orange','black'])"
   ]
  },
  {
   "cell_type": "code",
   "execution_count": 20,
   "id": "e14cb12e-c95a-49b6-bac3-7f7a1f4a27cb",
   "metadata": {},
   "outputs": [
    {
     "name": "stdout",
     "output_type": "stream",
     "text": [
      "['red', 'purple', 'green', 'blue', 'yellow', 'pink', 'brown', 'burgundy', 'orange', 'black']\n"
     ]
    }
   ],
   "source": [
    "print(colors)"
   ]
  },
  {
   "cell_type": "code",
   "execution_count": 21,
   "id": "42cbbbbe-59ac-4a54-b201-0bf926362df7",
   "metadata": {},
   "outputs": [],
   "source": [
    "# Create a list called gadgets then remove the item tablet\n",
    "gadgets = ['phone','laptop','tablet','watch']"
   ]
  },
  {
   "cell_type": "code",
   "execution_count": 22,
   "id": "dd2865ce-c4cc-46c9-a8ac-0df35a170c13",
   "metadata": {},
   "outputs": [],
   "source": [
    "gadgets.remove('tablet')"
   ]
  },
  {
   "cell_type": "code",
   "execution_count": 23,
   "id": "82f62946-835a-4cc0-989f-f5fde0b12a60",
   "metadata": {},
   "outputs": [
    {
     "name": "stdout",
     "output_type": "stream",
     "text": [
      "['phone', 'laptop', 'watch']\n"
     ]
    }
   ],
   "source": [
    "print(gadgets)"
   ]
  },
  {
   "cell_type": "code",
   "execution_count": 24,
   "id": "d3807c91-d0bb-45f9-997a-c61fe5b8bbfd",
   "metadata": {},
   "outputs": [
    {
     "data": {
      "text/plain": [
       "'watch'"
      ]
     },
     "execution_count": 24,
     "metadata": {},
     "output_type": "execute_result"
    }
   ],
   "source": [
    "gadgets.pop(-1)"
   ]
  },
  {
   "cell_type": "code",
   "execution_count": 25,
   "id": "12ef9fbd-65dd-4dd1-b8b4-eb4fa617fee1",
   "metadata": {},
   "outputs": [
    {
     "name": "stdout",
     "output_type": "stream",
     "text": [
      "['phone', 'laptop']\n"
     ]
    }
   ],
   "source": [
    "print(gadgets)"
   ]
  },
  {
   "cell_type": "code",
   "execution_count": 26,
   "id": "6e3a5611-6adf-45ca-a5ae-8ae3a316f590",
   "metadata": {},
   "outputs": [],
   "source": [
    "# Use the del function to delete the first item in the list\n",
    "del(gadgets[0])"
   ]
  },
  {
   "cell_type": "code",
   "execution_count": 27,
   "id": "fae953d6-b646-4b6e-b22d-3465f922aecd",
   "metadata": {},
   "outputs": [
    {
     "name": "stdout",
     "output_type": "stream",
     "text": [
      "['laptop']\n"
     ]
    }
   ],
   "source": [
    "print(gadgets)"
   ]
  },
  {
   "cell_type": "code",
   "execution_count": 28,
   "id": "8b3e06b1-20a8-474b-90dd-6e10e8cbac70",
   "metadata": {},
   "outputs": [],
   "source": [
    "# Clear all items in the gadgets list\n",
    "gadgets.clear()"
   ]
  },
  {
   "cell_type": "code",
   "execution_count": 29,
   "id": "a82f9d15-e0c9-4643-8235-bea9aca7602f",
   "metadata": {},
   "outputs": [],
   "source": [
    "# Create a list called numbers then use a for loop to print each item\n",
    "numbers = [10,20,30,40,50]"
   ]
  },
  {
   "cell_type": "code",
   "execution_count": 30,
   "id": "f399073d-0ca9-4e71-a24b-b2480d1f3dd7",
   "metadata": {},
   "outputs": [
    {
     "name": "stdout",
     "output_type": "stream",
     "text": [
      "10\n",
      "20\n",
      "30\n",
      "40\n",
      "50\n"
     ]
    }
   ],
   "source": [
    "for items in numbers:\n",
    "    print(items)"
   ]
  },
  {
   "cell_type": "code",
   "execution_count": 31,
   "id": "52bb97a9-a795-4764-a6fa-de553c812375",
   "metadata": {},
   "outputs": [
    {
     "name": "stdout",
     "output_type": "stream",
     "text": [
      "20\n",
      "40\n",
      "60\n",
      "80\n",
      "100\n"
     ]
    }
   ],
   "source": [
    "# Modify each item in the list so that the numbers are multiplied by 2\n",
    "for items in numbers:\n",
    "    print(items * 2)"
   ]
  },
  {
   "cell_type": "code",
   "execution_count": 32,
   "id": "24b7b251-ecdc-4fbd-b574-2758b4aebb4f",
   "metadata": {},
   "outputs": [],
   "source": [
    "# Create a list called name then use a loop to print the names in a reverse order\n",
    "names = ['John','Jane','Mary','Peter']"
   ]
  },
  {
   "cell_type": "code",
   "execution_count": 33,
   "id": "2308abd2-306d-4f27-a486-87f9bd5978d3",
   "metadata": {},
   "outputs": [],
   "source": [
    "names.reverse()"
   ]
  },
  {
   "cell_type": "code",
   "execution_count": 34,
   "id": "3fdf3a29-9ff4-4fae-a385-1361849789b7",
   "metadata": {},
   "outputs": [
    {
     "data": {
      "text/plain": [
       "['Peter', 'Mary', 'Jane', 'John']"
      ]
     },
     "execution_count": 34,
     "metadata": {},
     "output_type": "execute_result"
    }
   ],
   "source": [
    "names"
   ]
  },
  {
   "cell_type": "code",
   "execution_count": 35,
   "id": "add7f0d0-417f-4ce3-ab05-9e6eff21394d",
   "metadata": {},
   "outputs": [
    {
     "name": "stdout",
     "output_type": "stream",
     "text": [
      "John\n",
      "Jane\n",
      "Mary\n",
      "Peter\n"
     ]
    }
   ],
   "source": [
    "for name in reversed(names):\n",
    "    print(name)"
   ]
  },
  {
   "cell_type": "code",
   "execution_count": 36,
   "id": "138a56bf-05b2-47c6-8c98-9427a73d2ba6",
   "metadata": {},
   "outputs": [
    {
     "data": {
      "text/plain": [
       "['Peter', 'Mary', 'Jane', 'John']"
      ]
     },
     "execution_count": 36,
     "metadata": {},
     "output_type": "execute_result"
    }
   ],
   "source": [
    "# use a for loop to print all items in the list along with their indexes using the enumerate method.\n",
    "names"
   ]
  },
  {
   "cell_type": "code",
   "execution_count": 37,
   "id": "eb5d7096-d309-4b8c-add1-dd5ead71738c",
   "metadata": {},
   "outputs": [
    {
     "name": "stdout",
     "output_type": "stream",
     "text": [
      "index 0: names Peter\n",
      "index 1: names Mary\n",
      "index 2: names Jane\n",
      "index 3: names John\n"
     ]
    }
   ],
   "source": [
    "for index, name in enumerate(names):\n",
    "    print(f'index {index}: names {name}')"
   ]
  },
  {
   "cell_type": "code",
   "execution_count": 38,
   "id": "497ea8e0-c94f-4974-8302-40e3cda8afcc",
   "metadata": {},
   "outputs": [
    {
     "data": {
      "text/plain": [
       "[10, 20, 30, 40, 50]"
      ]
     },
     "execution_count": 38,
     "metadata": {},
     "output_type": "execute_result"
    }
   ],
   "source": [
    "numbers"
   ]
  },
  {
   "cell_type": "code",
   "execution_count": 39,
   "id": "021cc2ac-3296-4759-8af6-abc24c1dabd6",
   "metadata": {},
   "outputs": [
    {
     "name": "stdout",
     "output_type": "stream",
     "text": [
      "40\n",
      "50\n"
     ]
    }
   ],
   "source": [
    "for num in numbers:\n",
    "    if num > 30:\n",
    "        print(num)"
   ]
  },
  {
   "cell_type": "code",
   "execution_count": 40,
   "id": "e28558e9-c9f0-4e22-9104-ddf286512704",
   "metadata": {},
   "outputs": [],
   "source": [
    "# Creating a list comprehension\n",
    "\n",
    "a = (1,2,3,4,5,6,7,8,9,10,11)\n",
    "\n",
    "new_a = []"
   ]
  },
  {
   "cell_type": "code",
   "execution_count": 41,
   "id": "fc4aa5b6-8011-4e58-bdd2-985ba4d85689",
   "metadata": {},
   "outputs": [
    {
     "name": "stdout",
     "output_type": "stream",
     "text": [
      "[2, 4, 6, 8, 10, 12, 14, 16, 18, 20, 22]\n"
     ]
    }
   ],
   "source": [
    "for i in a:\n",
    "    new_a.append(i * 2)\n",
    "print(new_a)"
   ]
  },
  {
   "cell_type": "code",
   "execution_count": 44,
   "id": "2f4aa526-c095-44ae-8d5e-13aa5063d4ca",
   "metadata": {},
   "outputs": [],
   "source": [
    "# List comprehension\n",
    "\n",
    "new_b = [i * 2 for i in a]"
   ]
  },
  {
   "cell_type": "code",
   "execution_count": 45,
   "id": "e6d4e07d-27a0-4083-bb3d-e2c37eacf7fe",
   "metadata": {},
   "outputs": [
    {
     "name": "stdout",
     "output_type": "stream",
     "text": [
      "[2, 4, 6, 8, 10, 12, 14, 16, 18, 20, 22]\n"
     ]
    }
   ],
   "source": [
    "print(new_b)"
   ]
  },
  {
   "cell_type": "code",
   "execution_count": 46,
   "id": "050c66cc-6bf8-45e8-a867-f0496813ae2b",
   "metadata": {},
   "outputs": [
    {
     "name": "stdout",
     "output_type": "stream",
     "text": [
      "[2, 4, 6, 8, 10, 12, 14, 16, 18, 20, 22, 2, 4, 6, 8, 10, 12, 14, 16, 18, 20, 22]\n"
     ]
    }
   ],
   "source": [
    "for i in a:\n",
    "    new_a.append(i * 2)\n",
    "print(new_a)"
   ]
  },
  {
   "cell_type": "code",
   "execution_count": null,
   "id": "2713a39f-93dd-4e3f-a7b2-c92118232ad4",
   "metadata": {},
   "outputs": [],
   "source": []
  }
 ],
 "metadata": {
  "kernelspec": {
   "display_name": "Python 3 (ipykernel)",
   "language": "python",
   "name": "python3"
  },
  "language_info": {
   "codemirror_mode": {
    "name": "ipython",
    "version": 3
   },
   "file_extension": ".py",
   "mimetype": "text/x-python",
   "name": "python",
   "nbconvert_exporter": "python",
   "pygments_lexer": "ipython3",
   "version": "3.12.4"
  }
 },
 "nbformat": 4,
 "nbformat_minor": 5
}
