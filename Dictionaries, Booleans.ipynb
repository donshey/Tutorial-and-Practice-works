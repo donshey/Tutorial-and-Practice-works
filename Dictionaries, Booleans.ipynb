{
 "cells": [
  {
   "cell_type": "markdown",
   "id": "923939af-e1fb-4898-ac40-a3d7cc86d6cf",
   "metadata": {},
   "source": [
    "# Dictionaries"
   ]
  },
  {
   "cell_type": "code",
   "execution_count": 1,
   "id": "6681bc97-96ad-450e-ae6a-b2770e8100ae",
   "metadata": {},
   "outputs": [
    {
     "name": "stdout",
     "output_type": "stream",
     "text": [
      "{'title': 'Python Programming', 'author': 'John Doe', 'pages': 350}\n"
     ]
    }
   ],
   "source": [
    "# 1. **Creating Dictionaries**\n",
    "# - **Question:** Create a dictionary named `book` that contains the following key-value pairs:\n",
    "#`title` (\"Python Programming\"), `author` (\"John Doe\"), and `pages` (350). Print the dictionary.\n",
    "\n",
    "book = {'title':'Python Programming', 'author':'John Doe', 'pages':350}\n",
    "print(book)"
   ]
  },
  {
   "cell_type": "code",
   "execution_count": 2,
   "id": "1b48805c-176d-45c0-98d6-80042398c95c",
   "metadata": {},
   "outputs": [
    {
     "name": "stdout",
     "output_type": "stream",
     "text": [
      "<class 'dict'>\n"
     ]
    }
   ],
   "source": [
    "print(type(book))"
   ]
  },
  {
   "cell_type": "code",
   "execution_count": null,
   "id": "aad1f4b1-d866-4a2f-ba15-a858f7d33477",
   "metadata": {},
   "outputs": [],
   "source": []
  },
  {
   "cell_type": "code",
   "execution_count": 4,
   "id": "2e43c09b-ceff-4f81-a66e-3b8de50f5e60",
   "metadata": {},
   "outputs": [
    {
     "name": "stdout",
     "output_type": "stream",
     "text": [
      "Engineer\n"
     ]
    }
   ],
   "source": [
    "#2. **Accessing Values**\n",
    "#- **Question:** Given the dictionary `person = {\"name\": \"Emily\", \"age\": 30, \"profession\":\n",
    "#\"Engineer\"}`, write code to print only the profession.\n",
    "\n",
    "person = {'name':'Emily', 'age':30, 'profession':'Engineer'}\n",
    "print(person['profession'])"
   ]
  },
  {
   "cell_type": "code",
   "execution_count": null,
   "id": "5e9b05b9-606c-42d2-903f-342fbef90519",
   "metadata": {},
   "outputs": [],
   "source": []
  },
  {
   "cell_type": "code",
   "execution_count": 7,
   "id": "611faf12-1100-4039-b711-4bd67fb9dc3a",
   "metadata": {},
   "outputs": [],
   "source": [
    "# 3. **Adding and Removing Items**\n",
    "#- **Question:** Add a new key `salary` with the value `50000` to the `person` dictionary. Then,\n",
    "#remove the key `age` from the dictionary. Print the updated dictionary.\n",
    "\n",
    "person['salary']=50000"
   ]
  },
  {
   "cell_type": "code",
   "execution_count": 8,
   "id": "751e11de-9aa5-41a6-a1e8-e88774d8baaf",
   "metadata": {},
   "outputs": [
    {
     "data": {
      "text/plain": [
       "{'name': 'Emily', 'age': 30, 'profession': 'Engineer', 'salary': 50000}"
      ]
     },
     "execution_count": 8,
     "metadata": {},
     "output_type": "execute_result"
    }
   ],
   "source": [
    "person"
   ]
  },
  {
   "cell_type": "code",
   "execution_count": 10,
   "id": "fbfc59e1-7586-47ad-b338-8a8cc7d7b055",
   "metadata": {},
   "outputs": [],
   "source": [
    "del(person['age'])"
   ]
  },
  {
   "cell_type": "code",
   "execution_count": 12,
   "id": "fb035e4b-4b1b-4045-8da0-3ddc07909213",
   "metadata": {},
   "outputs": [
    {
     "name": "stdout",
     "output_type": "stream",
     "text": [
      "{'name': 'Emily', 'profession': 'Engineer', 'salary': 50000}\n"
     ]
    }
   ],
   "source": [
    "print(person)"
   ]
  },
  {
   "cell_type": "code",
   "execution_count": null,
   "id": "e89d6cf1-d2d5-4140-a9f5-2c2113768e0f",
   "metadata": {},
   "outputs": [],
   "source": []
  },
  {
   "cell_type": "code",
   "execution_count": 13,
   "id": "81198c19-799e-4da9-9156-24998c677ce5",
   "metadata": {},
   "outputs": [],
   "source": [
    "# 4. **Dictionary Methods**\n",
    "#- **Question:** Given the dictionary `inventory = {\"apples\": 10, \"oranges\": 5, \"bananas\": 7}`,\n",
    "#use dictionary methods to:\n",
    "#- Print all the keys.\n",
    "#- Print all the values.\n",
    "#- Print all the key-value pairs.\n",
    "\n",
    "inventory = {'apples':10, 'oranges':5, 'bananas':7}"
   ]
  },
  {
   "cell_type": "code",
   "execution_count": 14,
   "id": "295de5a0-fc34-4c26-98d8-84759002b7dc",
   "metadata": {},
   "outputs": [
    {
     "data": {
      "text/plain": [
       "{'apples': 10, 'oranges': 5, 'bananas': 7}"
      ]
     },
     "execution_count": 14,
     "metadata": {},
     "output_type": "execute_result"
    }
   ],
   "source": [
    "inventory"
   ]
  },
  {
   "cell_type": "code",
   "execution_count": 17,
   "id": "1ced4d2d-da3b-4f3a-a3c1-127058d20d02",
   "metadata": {},
   "outputs": [
    {
     "data": {
      "text/plain": [
       "dict_keys(['apples', 'oranges', 'bananas'])"
      ]
     },
     "execution_count": 17,
     "metadata": {},
     "output_type": "execute_result"
    }
   ],
   "source": [
    "inventory.keys()"
   ]
  },
  {
   "cell_type": "code",
   "execution_count": 18,
   "id": "68f6e5cd-daa9-4a99-ba1d-3b6c761921c7",
   "metadata": {},
   "outputs": [
    {
     "data": {
      "text/plain": [
       "dict_values([10, 5, 7])"
      ]
     },
     "execution_count": 18,
     "metadata": {},
     "output_type": "execute_result"
    }
   ],
   "source": [
    "inventory.values()"
   ]
  },
  {
   "cell_type": "code",
   "execution_count": 19,
   "id": "2ad17460-0f55-4b33-9419-fd6a6ced1936",
   "metadata": {},
   "outputs": [
    {
     "data": {
      "text/plain": [
       "dict_items([('apples', 10), ('oranges', 5), ('bananas', 7)])"
      ]
     },
     "execution_count": 19,
     "metadata": {},
     "output_type": "execute_result"
    }
   ],
   "source": [
    "inventory.items()"
   ]
  },
  {
   "cell_type": "code",
   "execution_count": null,
   "id": "744af168-4096-42bd-84f0-207cd92f8679",
   "metadata": {},
   "outputs": [],
   "source": []
  },
  {
   "cell_type": "code",
   "execution_count": 20,
   "id": "476e9e6b-b42c-4e00-8c20-8ab950ddadb9",
   "metadata": {},
   "outputs": [],
   "source": [
    "# 5. **Real-World Scenario**\n",
    "#- **Question:** You have a dictionary `grades = {\"Alice\": 85, \"Bob\": 90, \"Charlie\": 78}`. Write a\n",
    "#loop to print each student's name and grade in the format `\"Alice has a grade of 85.\"`.\n",
    "\n",
    "\n",
    "grades = {'Alice':85, 'Bob':90, 'Charlie':78}"
   ]
  },
  {
   "cell_type": "code",
   "execution_count": 23,
   "id": "c5109881-2c5e-4e3f-a8f9-549359cab5ff",
   "metadata": {},
   "outputs": [
    {
     "name": "stdout",
     "output_type": "stream",
     "text": [
      "Alice has a grade of 85\n",
      "Bob has a grade of 90\n",
      "Charlie has a grade of 78\n"
     ]
    }
   ],
   "source": [
    "for name, grade in grades.items():\n",
    "    print(f'{name} has a grade of {grade}')"
   ]
  },
  {
   "cell_type": "code",
   "execution_count": null,
   "id": "8e10e462-fafa-44bb-bd49-07beecf0594d",
   "metadata": {},
   "outputs": [],
   "source": []
  },
  {
   "cell_type": "code",
   "execution_count": 1,
   "id": "04d7b5e9-49ce-4df4-920c-ce072b3970ce",
   "metadata": {},
   "outputs": [],
   "source": [
    "# Just creating a dictionary\n",
    "\n",
    "d = {}"
   ]
  },
  {
   "cell_type": "code",
   "execution_count": 2,
   "id": "fb97996c-b14b-4977-b68e-841393b81440",
   "metadata": {},
   "outputs": [],
   "source": [
    "d['George'] = 35"
   ]
  },
  {
   "cell_type": "code",
   "execution_count": 3,
   "id": "80e9aada-9467-44c5-aeea-05f9b76e46ad",
   "metadata": {},
   "outputs": [],
   "source": [
    "d['Jenny'] = 16"
   ]
  },
  {
   "cell_type": "code",
   "execution_count": 4,
   "id": "10b00694-9a6b-4c61-b522-2e2e4aa9a53c",
   "metadata": {},
   "outputs": [],
   "source": [
    "d['Hoffman'] = 27"
   ]
  },
  {
   "cell_type": "code",
   "execution_count": 5,
   "id": "67543b37-132a-4379-b6b6-32427389d899",
   "metadata": {},
   "outputs": [
    {
     "name": "stdout",
     "output_type": "stream",
     "text": [
      "35\n"
     ]
    }
   ],
   "source": [
    "print(d['George'])"
   ]
  },
  {
   "cell_type": "code",
   "execution_count": 6,
   "id": "4bcfaa83-dd30-4c38-aa63-da741d8d18f2",
   "metadata": {},
   "outputs": [
    {
     "name": "stdout",
     "output_type": "stream",
     "text": [
      "16\n",
      "27\n"
     ]
    }
   ],
   "source": [
    "print(d['Jenny'])\n",
    "print(d['Hoffman'])"
   ]
  },
  {
   "cell_type": "code",
   "execution_count": 7,
   "id": "e49c0f3b-1fdc-4871-a5d3-79e44ac257ec",
   "metadata": {},
   "outputs": [
    {
     "name": "stdout",
     "output_type": "stream",
     "text": [
      "key: \n",
      "George\n",
      "value: \n",
      "35\n",
      "\n",
      "key: \n",
      "Jenny\n",
      "value: \n",
      "16\n",
      "\n",
      "key: \n",
      "Hoffman\n",
      "value: \n",
      "27\n",
      "\n"
     ]
    }
   ],
   "source": [
    "for key, value in d.items():\n",
    "    print('key: ')\n",
    "    print(key)\n",
    "    print('value: ')\n",
    "    print(value)\n",
    "    print('')"
   ]
  },
  {
   "cell_type": "code",
   "execution_count": null,
   "id": "12751ee7-89b9-44dd-9fa8-0af1a4441fe3",
   "metadata": {},
   "outputs": [],
   "source": []
  },
  {
   "cell_type": "code",
   "execution_count": null,
   "id": "7db9a70c-bdfc-45b7-890c-0ac655a5fcaa",
   "metadata": {},
   "outputs": [],
   "source": []
  },
  {
   "cell_type": "code",
   "execution_count": null,
   "id": "49272371-d2a1-46fe-ab9a-79aec77f10cf",
   "metadata": {},
   "outputs": [],
   "source": []
  },
  {
   "cell_type": "markdown",
   "id": "cf7d4c59-4ff5-4e29-9a48-3300133c6d4f",
   "metadata": {},
   "source": [
    "# Booleans"
   ]
  },
  {
   "cell_type": "code",
   "execution_count": 24,
   "id": "3f0c0fcb-5b7d-4725-8239-e4a4dd8a64e9",
   "metadata": {},
   "outputs": [],
   "source": [
    "# 1. **Boolean Variables**\n",
    "#- **Question:** Create two boolean variables `is_student` and `is_employed`. Set them to\n",
    "#`True` and `False` respectively. Print both variables.\n",
    "\n",
    "\n",
    "is_student = True\n",
    "is_employed = False"
   ]
  },
  {
   "cell_type": "code",
   "execution_count": 25,
   "id": "603d85b2-8545-47bc-96ee-5ec0154a5a80",
   "metadata": {},
   "outputs": [
    {
     "name": "stdout",
     "output_type": "stream",
     "text": [
      "True\n",
      "False\n"
     ]
    }
   ],
   "source": [
    "print(is_student)\n",
    "print(is_employed)"
   ]
  },
  {
   "cell_type": "code",
   "execution_count": null,
   "id": "7fab9381-98ca-4a42-acdd-ca21e54f337e",
   "metadata": {},
   "outputs": [],
   "source": []
  },
  {
   "cell_type": "code",
   "execution_count": 26,
   "id": "70c38522-766c-4884-a055-59ddf46c8ae9",
   "metadata": {},
   "outputs": [],
   "source": [
    "# 2. **Boolean Operations**\n",
    "#- **Question:** Given `a = True` and `b = False`, write expressions to evaluate:\n",
    "#- `a and b`\n",
    "#- `a or b`\n",
    "#- `not a`\n",
    "#- `not b`\n",
    "#- Print the results of each expression.\n",
    "\n",
    "\n",
    "a = True\n",
    "b = False"
   ]
  },
  {
   "cell_type": "code",
   "execution_count": 28,
   "id": "450b1339-0b77-4487-89f6-dc861ecc45cf",
   "metadata": {},
   "outputs": [
    {
     "name": "stdout",
     "output_type": "stream",
     "text": [
      "False\n",
      "True\n",
      "False\n",
      "True\n"
     ]
    }
   ],
   "source": [
    "print(a and b)\n",
    "print(a or b)\n",
    "print(not a)\n",
    "print(not b)"
   ]
  },
  {
   "cell_type": "code",
   "execution_count": null,
   "id": "2a7cae55-dd50-4658-98e7-242f0e8d9455",
   "metadata": {},
   "outputs": [],
   "source": []
  },
  {
   "cell_type": "code",
   "execution_count": 42,
   "id": "5e32f9da-ddc2-4927-b096-2a017f674784",
   "metadata": {},
   "outputs": [],
   "source": [
    "# 3. **Boolean Expressions**\n",
    "#- **Question:** Write a boolean expression to check if a number `x` is between 10 and 20\n",
    "#(inclusive). Assign the result to a variable `is_in_range` and print it for `x = 15`.\n",
    "\n",
    "\n",
    "x = 15\n",
    "is_in_range = True"
   ]
  },
  {
   "cell_type": "code",
   "execution_count": 43,
   "id": "ef431e12-5a58-4bd9-8f34-f2e5a708c63e",
   "metadata": {},
   "outputs": [
    {
     "name": "stdout",
     "output_type": "stream",
     "text": [
      "x is in range(10,20)\n"
     ]
    }
   ],
   "source": [
    "if x in range(10,20) and is_in_range:\n",
    "    print('x is in range(10,20)')\n",
    "else:\n",
    "    print('x is not in range(10,20')"
   ]
  },
  {
   "cell_type": "code",
   "execution_count": null,
   "id": "c9929298-d982-475a-a2c4-03e759049026",
   "metadata": {},
   "outputs": [],
   "source": []
  },
  {
   "cell_type": "code",
   "execution_count": 48,
   "id": "0fc59904-0b31-483f-9e2b-1e2fe26550e5",
   "metadata": {},
   "outputs": [],
   "source": [
    "# 4. **Real-World Scenario**\n",
    "#- **Question:** You are building a simple login system. Create boolean variables\n",
    "#`username_correct` and `password_correct`. Write a boolean expression that evaluates to\n",
    "#`True` only if both the username and password are correct. Print the result.\n",
    "\n",
    "\n",
    "username_correct = True\n",
    "password_correct = True"
   ]
  },
  {
   "cell_type": "code",
   "execution_count": 49,
   "id": "732f8640-d66e-4de9-954e-a883fa5f073f",
   "metadata": {},
   "outputs": [
    {
     "name": "stdout",
     "output_type": "stream",
     "text": [
      "Login successful\n"
     ]
    }
   ],
   "source": [
    "if username_correct and password_correct == True:\n",
    "    print('Login successful')\n",
    "else:\n",
    "    print('Incorrect password or Username. Try again')"
   ]
  },
  {
   "cell_type": "code",
   "execution_count": null,
   "id": "83d70673-2125-49d7-8986-32db77bad832",
   "metadata": {},
   "outputs": [],
   "source": []
  },
  {
   "cell_type": "code",
   "execution_count": 56,
   "id": "daec14ef-3544-45f9-bbba-ec63bb1fd9cc",
   "metadata": {},
   "outputs": [
    {
     "name": "stdin",
     "output_type": "stream",
     "text": [
      "Enter a positive integer:  8\n"
     ]
    },
    {
     "name": "stdout",
     "output_type": "stream",
     "text": [
      "The num 8 you entered is a valid input\n"
     ]
    }
   ],
   "source": [
    "# 1. **Basic If Statement**\n",
    "#- **Question:** Write a program that takes an integer input `num`. If `num` is positive, print\n",
    "#`\"Positive number.\"`\n",
    "\n",
    "\n",
    "positive_number = int(input('Enter a positive integer: '))\n",
    "if positive_number < 0:\n",
    "    print('Invalid num, input a positive integer')\n",
    "else:\n",
    "    print(f'The num {positive_number} you entered is a valid input')"
   ]
  },
  {
   "cell_type": "code",
   "execution_count": 60,
   "id": "082ebb25-ecb1-49fd-8080-3f4be89977ff",
   "metadata": {},
   "outputs": [
    {
     "name": "stdin",
     "output_type": "stream",
     "text": [
      "Enter a positive number:  790\n"
     ]
    },
    {
     "name": "stdout",
     "output_type": "stream",
     "text": [
      "The number 790 is a positive value\n"
     ]
    }
   ],
   "source": [
    "# 2. **If-Else Statement**\n",
    "#- **Question:** Extend the previous program to print `\"Negative number.\"` if `num` is less than\n",
    "#zero. If `num` is zero, print `\"Zero.\"\n",
    "\n",
    "\n",
    "positive_number = int(input('Enter a positive number: '))\n",
    "if positive_number < 0:\n",
    "    print(f'The number {positive_number} is a negative value')\n",
    "elif positive_number == 0:\n",
    "    print(f'The number {positive_number} is zero')\n",
    "else:\n",
    "    print(f'The number {positive_number} is a positive value')"
   ]
  },
  {
   "cell_type": "code",
   "execution_count": null,
   "id": "445ef876-c4e9-4a42-a861-6d8cc9c05032",
   "metadata": {},
   "outputs": [],
   "source": []
  },
  {
   "cell_type": "code",
   "execution_count": 62,
   "id": "02c0ed52-c022-4a51-83a4-c2fe4251e233",
   "metadata": {},
   "outputs": [
    {
     "name": "stdin",
     "output_type": "stream",
     "text": [
      "Enter your score:  69\n"
     ]
    },
    {
     "name": "stdout",
     "output_type": "stream",
     "text": [
      "Grade: F\n"
     ]
    }
   ],
   "source": [
    "# 3. **If-Elif-Else Statement**\n",
    "#- **Question:** Write a program that takes an integer input `score`.\n",
    "#- If `score` is 90 or above, print `\"Grade: A\"`\n",
    "#- Elif `score` is 80 or above, print `\"Grade: B\"`\n",
    "#- Elif `score` is 70 or above, print `\"Grade: C\"`\n",
    "#- Else, print `\"Grade: F\"`\n",
    "\n",
    "\n",
    "score = int(input('Enter your score: '))\n",
    "\n",
    "if score >= 90:\n",
    "    print('Grade: A')\n",
    "elif score >= 80:\n",
    "    print('Grade: B')\n",
    "elif score >= 70:\n",
    "    print('Grade: C')\n",
    "else:\n",
    "    print('Grade: F')"
   ]
  },
  {
   "cell_type": "code",
   "execution_count": null,
   "id": "dcd98738-db54-406c-b043-11ba295f9688",
   "metadata": {},
   "outputs": [],
   "source": []
  },
  {
   "cell_type": "code",
   "execution_count": 66,
   "id": "0a00b91f-d59a-4860-bfb1-8d702bae32ea",
   "metadata": {},
   "outputs": [
    {
     "name": "stdin",
     "output_type": "stream",
     "text": [
      "Please enter your age:  46\n"
     ]
    },
    {
     "name": "stdout",
     "output_type": "stream",
     "text": [
      "You can drive\n"
     ]
    }
   ],
   "source": [
    "# 4. **Nested If Statements**\n",
    "#- **Question:** Write a program that takes two inputs: `age` and `has_license`.\n",
    "#- If `age` is 18 or above:\n",
    "#- If `has_license` is `True`, print `\"You can drive.\"`\n",
    "#- Else, print `\"You need a driver's license to drive.\"`\n",
    "#- Else, print `\"You are too young to drive.\"`\n",
    "\n",
    "\n",
    "has_license = True\n",
    "age = int(input('Please enter your age: '))\n",
    "\n",
    "if age >= 18:\n",
    "    if has_license == True:\n",
    "        print('You can drive')\n",
    "    else:\n",
    "        print(\"You need a driver's license to drive\")\n",
    "else:\n",
    "    print('You are too young to drive')"
   ]
  },
  {
   "cell_type": "code",
   "execution_count": null,
   "id": "d089277b-dcc1-4670-b877-baa2aa700b17",
   "metadata": {},
   "outputs": [],
   "source": []
  },
  {
   "cell_type": "code",
   "execution_count": 94,
   "id": "82b57b3e-7299-45c1-9f8c-b57b08fa9e75",
   "metadata": {},
   "outputs": [
    {
     "name": "stdin",
     "output_type": "stream",
     "text": [
      "Enter the total amount of purchased item:  3589\n"
     ]
    },
    {
     "name": "stdout",
     "output_type": "stream",
     "text": [
      "You get a 20% discount\n"
     ]
    }
   ],
   "source": [
    "# 5. **Real-World Scenario**\n",
    "#- **Question:** You are creating a simple discount system for a store. Write a program that\n",
    "#takes an integer input `purchase_amount`.\n",
    "#- If `purchase_amount` is greater than or equal to 1000, print `\"You get a 20% discount!\"`\n",
    "#- Elif `purchase_amount` is greater than or equal to 500, print `\"You get a 10% discount!\"`\n",
    "#- Else, print `\"No discount available.\"`\n",
    "\n",
    "\n",
    "purchase_amount = int(input('Enter the total amount of purchased item: '))\n",
    "\n",
    "if purchase_amount >= 1000:\n",
    "    print('You get a 20% discount')\n",
    "elif purchase_amount >= 500:\n",
    "    print('You get a 10% discount')\n",
    "else:\n",
    "    print('No discount available')"
   ]
  },
  {
   "cell_type": "code",
   "execution_count": null,
   "id": "d65d83db-b322-4e19-9587-9130511b8e4b",
   "metadata": {},
   "outputs": [],
   "source": []
  },
  {
   "cell_type": "markdown",
   "id": "05cb492a-8d54-4a83-ad45-bfd6419cdeac",
   "metadata": {},
   "source": [
    "# Bonus Challenges"
   ]
  },
  {
   "cell_type": "code",
   "execution_count": 72,
   "id": "b4a780eb-beca-4375-aadc-d5a55c137ea1",
   "metadata": {},
   "outputs": [],
   "source": [
    "# 1. **Nested Dictionaries**\n",
    "#- **Question:** Create a library dictionary containing two books. Each book should\n",
    "#be a nested dictionary with keys `title`, `author`, and `year`. Print the entire `library` dictionary.\n",
    "\n",
    "library = {\n",
    "    'book1':{\n",
    "    'title':'Pride and Prejudice', \n",
    "    'author':'J Austen', \n",
    "    'year':1813},\n",
    "    'book2':{\n",
    "    'title':'Uncle Bernac',\n",
    "    'author':'A.C. Doyle',\n",
    "    'year':1879}\n",
    "}"
   ]
  },
  {
   "cell_type": "code",
   "execution_count": 93,
   "id": "ad18225b-401b-4cf3-a267-06822f66a316",
   "metadata": {},
   "outputs": [
    {
     "name": "stdout",
     "output_type": "stream",
     "text": [
      "{'book1': {'title': 'Pride and Prejudice', 'author': 'J Austen', 'year': 1813}, 'book2': {'title': 'Uncle Bernac', 'author': 'A.C. Doyle', 'year': 1879}}\n"
     ]
    }
   ],
   "source": [
    "print(library)"
   ]
  },
  {
   "cell_type": "code",
   "execution_count": null,
   "id": "2bd5fc95-5d5e-4655-859b-490eb9c91f81",
   "metadata": {},
   "outputs": [],
   "source": []
  },
  {
   "cell_type": "code",
   "execution_count": 1,
   "id": "b2da8be1-daa8-4981-aef5-c937bee4344e",
   "metadata": {},
   "outputs": [
    {
     "name": "stdout",
     "output_type": "stream",
     "text": [
      "value2\n"
     ]
    }
   ],
   "source": [
    "# 2. **Dictionary Methods**\n",
    "#- **Question:** Given the dictionary `data = {\"key1\": \"value1\", \"key2\": \"value2\", \"key3\":\n",
    "#\"value3\"}`, use the `get()` method to retrieve the value for `key2`. Also, try to retrieve the value\n",
    "#for a non-existent key `key4` with a default value `\"Not Found\"`.\n",
    "\n",
    "data = {'key1':'value1', 'key2':'value2', 'key3':'value3'}\n",
    "print(data.get('key2'))"
   ]
  },
  {
   "cell_type": "code",
   "execution_count": 76,
   "id": "be9963cf-b6ab-4874-a61c-0e821bf7bbea",
   "metadata": {},
   "outputs": [],
   "source": [
    "data.get('key4')"
   ]
  },
  {
   "cell_type": "code",
   "execution_count": 77,
   "id": "b6543c24-0043-483e-b7b1-74b9dc564e11",
   "metadata": {},
   "outputs": [
    {
     "name": "stdout",
     "output_type": "stream",
     "text": [
      "None\n"
     ]
    }
   ],
   "source": [
    "print(data.get('key4'))"
   ]
  },
  {
   "cell_type": "code",
   "execution_count": 80,
   "id": "f8defd4c-fa2b-4d08-b46a-3ec84339cf9f",
   "metadata": {},
   "outputs": [
    {
     "name": "stdout",
     "output_type": "stream",
     "text": [
      "None\n"
     ]
    }
   ],
   "source": [
    "print(data.get('key4'))"
   ]
  },
  {
   "cell_type": "code",
   "execution_count": null,
   "id": "c783c7b5-2ba6-402a-a071-20af6e3120ce",
   "metadata": {},
   "outputs": [],
   "source": []
  },
  {
   "cell_type": "code",
   "execution_count": 2,
   "id": "3f9b0a8b-0851-4162-81b4-b988d47e5dc9",
   "metadata": {},
   "outputs": [
    {
     "name": "stdout",
     "output_type": "stream",
     "text": [
      "True\n"
     ]
    }
   ],
   "source": [
    "# 1. **Complex Boolean Expressions**\n",
    "#- **Question:** Given `x = 10`, `y = 20`, and `z = 30`, write a boolean expression that\n",
    "#evaluates to `True` if `x` is less than `y` **and** `y` is less than `z`. Could you print the result?\n",
    "\n",
    "x,y,z = 10,20,30\n",
    "\n",
    "print(x<y<z)"
   ]
  },
  {
   "cell_type": "code",
   "execution_count": null,
   "id": "f802857c-116b-4d35-a8f9-05551059af79",
   "metadata": {},
   "outputs": [],
   "source": []
  }
 ],
 "metadata": {
  "kernelspec": {
   "display_name": "Python 3 (ipykernel)",
   "language": "python",
   "name": "python3"
  },
  "language_info": {
   "codemirror_mode": {
    "name": "ipython",
    "version": 3
   },
   "file_extension": ".py",
   "mimetype": "text/x-python",
   "name": "python",
   "nbconvert_exporter": "python",
   "pygments_lexer": "ipython3",
   "version": "3.12.4"
  }
 },
 "nbformat": 4,
 "nbformat_minor": 5
}
