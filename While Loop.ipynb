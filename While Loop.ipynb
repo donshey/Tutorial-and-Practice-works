{
 "cells": [
  {
   "cell_type": "markdown",
   "id": "4da0d898-cd32-4fda-88fb-2ea4732a6957",
   "metadata": {},
   "source": [
    "# While Loop"
   ]
  },
  {
   "cell_type": "code",
   "execution_count": 1,
   "id": "6a84a459-9d75-4e2d-9549-1284772dcaf1",
   "metadata": {},
   "outputs": [
    {
     "name": "stdout",
     "output_type": "stream",
     "text": [
      "0\n",
      "1\n",
      "2\n",
      "3\n",
      "4\n"
     ]
    }
   ],
   "source": [
    "#while loops\n",
    "count = 0\n",
    "while count < 5:\n",
    "    print(count)\n",
    "    count = count + 1"
   ]
  },
  {
   "cell_type": "code",
   "execution_count": 2,
   "id": "ef5b84d1-8f94-4cec-abb4-0542af0ce820",
   "metadata": {},
   "outputs": [
    {
     "name": "stdout",
     "output_type": "stream",
     "text": [
      "0\n",
      "1\n",
      "2\n",
      "3\n",
      "4\n"
     ]
    }
   ],
   "source": [
    "#break and continue\n",
    "count = 0\n",
    "while count < 10:\n",
    "    if count == 5:\n",
    "        break\n",
    "    print(count)\n",
    "    count += 1"
   ]
  },
  {
   "cell_type": "code",
   "execution_count": 3,
   "id": "33d56634-5616-4117-b27e-3ca76a0d00e5",
   "metadata": {},
   "outputs": [
    {
     "name": "stdout",
     "output_type": "stream",
     "text": [
      "i = 1,j = 1\n",
      "i = 1,j = 2\n",
      "i = 2,j = 1\n",
      "i = 2,j = 2\n",
      "i = 3,j = 1\n",
      "i = 3,j = 2\n"
     ]
    }
   ],
   "source": [
    "# nested while loop\n",
    "i = 1\n",
    "while i <= 3:\n",
    "    j = 1\n",
    "    while j <= 2:\n",
    "        print(f\"i = {i},j = {j}\")\n",
    "        j += 1\n",
    "    i += 1"
   ]
  },
  {
   "cell_type": "code",
   "execution_count": 7,
   "id": "925dbc5c-0a57-4e13-b7b1-e989939df879",
   "metadata": {},
   "outputs": [
    {
     "name": "stdin",
     "output_type": "stream",
     "text": [
      "enter a password of at least 6 characters two\n"
     ]
    },
    {
     "name": "stdout",
     "output_type": "stream",
     "text": [
      "too short. Try again, password must be at least 6 characters\n"
     ]
    },
    {
     "name": "stdin",
     "output_type": "stream",
     "text": [
      "enter a password of at least 6 characters three\n"
     ]
    },
    {
     "name": "stdout",
     "output_type": "stream",
     "text": [
      "too short. Try again, password must be at least 6 characters\n"
     ]
    },
    {
     "name": "stdin",
     "output_type": "stream",
     "text": [
      "enter a password of at least 6 characters seven\n"
     ]
    },
    {
     "name": "stdout",
     "output_type": "stream",
     "text": [
      "too short. Try again, password must be at least 6 characters\n"
     ]
    },
    {
     "name": "stdin",
     "output_type": "stream",
     "text": [
      "enter a password of at least 6 characters thirteen\n"
     ]
    },
    {
     "name": "stdout",
     "output_type": "stream",
     "text": [
      "password accepted\n"
     ]
    }
   ],
   "source": [
    "# Real-life scenario\n",
    "#creating a password\n",
    "\n",
    "password = ''\n",
    "while len(password) < 6:\n",
    "    password = input('enter a password of at least 6 characters')\n",
    "    if len(password) < 6:\n",
    "        print('too short. Try again, password must be at least 6 characters')\n",
    "print('password accepted')"
   ]
  },
  {
   "cell_type": "code",
   "execution_count": 8,
   "id": "c8f32aab-f2b4-405b-91d4-dcaa76c6fe18",
   "metadata": {},
   "outputs": [
    {
     "name": "stdin",
     "output_type": "stream",
     "text": [
      "type password:  regonet\n"
     ]
    },
    {
     "name": "stdout",
     "output_type": "stream",
     "text": [
      "incorrect, password is not REGONET\n"
     ]
    },
    {
     "name": "stdin",
     "output_type": "stream",
     "text": [
      "type password:  REgonet\n"
     ]
    },
    {
     "name": "stdout",
     "output_type": "stream",
     "text": [
      "incorrect, password is not REGONET\n"
     ]
    },
    {
     "name": "stdin",
     "output_type": "stream",
     "text": [
      "type password:  REGONET\n"
     ]
    },
    {
     "name": "stdout",
     "output_type": "stream",
     "text": [
      "accepted. password is REGONET\n",
      "Loop ended\n"
     ]
    }
   ],
   "source": [
    "# Another real-life scenario\n",
    "\n",
    "passw = ''\n",
    "while passw != 'REGONET':\n",
    "    passw = input('type password: ')\n",
    "    if passw == 'REGONET':\n",
    "        print('accepted. password is REGONET')\n",
    "        break\n",
    "    print('incorrect, password is not REGONET')\n",
    "print('Loop ended')"
   ]
  },
  {
   "cell_type": "code",
   "execution_count": null,
   "id": "837a4095-9a85-4227-839e-f200ba88de73",
   "metadata": {},
   "outputs": [],
   "source": []
  },
  {
   "cell_type": "code",
   "execution_count": 42,
   "id": "8b1972c7-7abe-427b-93d6-acf416efb03f",
   "metadata": {},
   "outputs": [
    {
     "name": "stdout",
     "output_type": "stream",
     "text": [
      "45\n"
     ]
    }
   ],
   "source": [
    "# suing a while loop thru a range of numbers\n",
    "a = range(10)\n",
    "\n",
    "total = 0\n",
    "i = 0\n",
    "while i < len(a): \n",
    "    total += i\n",
    "    i += 1\n",
    "print(total)"
   ]
  },
  {
   "cell_type": "code",
   "execution_count": null,
   "id": "e4b19c1b-732b-487d-a94c-2ec6c2f53762",
   "metadata": {},
   "outputs": [],
   "source": []
  },
  {
   "cell_type": "code",
   "execution_count": 16,
   "id": "e78fd9dd-4c19-4f42-9e46-7917b64d795e",
   "metadata": {},
   "outputs": [
    {
     "name": "stdout",
     "output_type": "stream",
     "text": [
      "10\n"
     ]
    }
   ],
   "source": [
    "# Another example of a while loop\n",
    "total1 = 0\n",
    "j = 0\n",
    "while j < 5:\n",
    "    total1 += j\n",
    "    j += 1\n",
    "print(total1)"
   ]
  },
  {
   "cell_type": "code",
   "execution_count": null,
   "id": "36a0a893-dd3e-4a68-92ff-806ebdd0f0aa",
   "metadata": {},
   "outputs": [],
   "source": []
  },
  {
   "cell_type": "code",
   "execution_count": 49,
   "id": "08691058-944e-476a-af4b-e699745f61cc",
   "metadata": {},
   "outputs": [
    {
     "name": "stdout",
     "output_type": "stream",
     "text": [
      "19\n"
     ]
    }
   ],
   "source": [
    "given_list = [5,4,4,3,2,1,-1,-2,-3,-4,-5]\n",
    "\n",
    "total3 = 0\n",
    "i = 0\n",
    "while i < len(given_list) and given_list[i] > 0:\n",
    "    total3 += given_list[i]\n",
    "    i += 1\n",
    "print(total3)"
   ]
  },
  {
   "cell_type": "code",
   "execution_count": null,
   "id": "a0dbcb5f-8f4b-45ca-9f4b-27ca854036ce",
   "metadata": {},
   "outputs": [],
   "source": []
  },
  {
   "cell_type": "code",
   "execution_count": 30,
   "id": "23802720-3ae5-4c6c-b92e-aa14ffa93805",
   "metadata": {},
   "outputs": [
    {
     "name": "stdout",
     "output_type": "stream",
     "text": [
      "19\n"
     ]
    }
   ],
   "source": [
    "given_list2 = [5,4,4,3,2,1,-1,-2,-3,-4,-5]\n",
    "\n",
    "total4 = 0\n",
    "i = 0\n",
    "while True:\n",
    "    total4 += given_list2[i]\n",
    "    i += 1\n",
    "    if given_list2[i] <= 0:\n",
    "        break\n",
    "print(total4)   "
   ]
  },
  {
   "cell_type": "code",
   "execution_count": 58,
   "id": "c721b8c8-6ecf-4955-b90e-e3b74a325454",
   "metadata": {},
   "outputs": [
    {
     "name": "stdout",
     "output_type": "stream",
     "text": [
      "-22\n"
     ]
    }
   ],
   "source": [
    "# find the sum of the -ve values using a while loop\n",
    "given_list3 = [7,5,4,4,3,2,1,-1,-2,-3,-4,-5,-7]\n",
    "\n",
    "total5 = 0\n",
    "i = len(given_list3) -1\n",
    "while given_list3[i] < 0:\n",
    "    total5 += given_list3[i]\n",
    "    i -= 1\n",
    "print(total5)"
   ]
  },
  {
   "cell_type": "code",
   "execution_count": 45,
   "id": "16f42e02-c446-482a-8619-68ba58be352a",
   "metadata": {},
   "outputs": [
    {
     "name": "stdout",
     "output_type": "stream",
     "text": [
      "7\n"
     ]
    }
   ],
   "source": [
    "# using a for loop to solve the above question\n",
    "\n",
    "total6 = 0\n",
    "for i in given_list3:\n",
    "    if i >= 0:\n",
    "        total6 += i\n",
    "        break\n",
    "print(total6)"
   ]
  },
  {
   "cell_type": "code",
   "execution_count": null,
   "id": "0960bab6-5ede-48dc-bed9-cc52205e7dd1",
   "metadata": {},
   "outputs": [],
   "source": []
  },
  {
   "cell_type": "code",
   "execution_count": null,
   "id": "51c80431-14d6-45e6-8b93-64624732ba28",
   "metadata": {},
   "outputs": [],
   "source": []
  }
 ],
 "metadata": {
  "kernelspec": {
   "display_name": "Python 3 (ipykernel)",
   "language": "python",
   "name": "python3"
  },
  "language_info": {
   "codemirror_mode": {
    "name": "ipython",
    "version": 3
   },
   "file_extension": ".py",
   "mimetype": "text/x-python",
   "name": "python",
   "nbconvert_exporter": "python",
   "pygments_lexer": "ipython3",
   "version": "3.12.4"
  }
 },
 "nbformat": 4,
 "nbformat_minor": 5
}
