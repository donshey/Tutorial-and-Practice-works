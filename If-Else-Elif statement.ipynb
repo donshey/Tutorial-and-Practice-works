{
 "cells": [
  {
   "cell_type": "markdown",
   "id": "60ff5050-32d6-4813-b9b3-cdd2d161032f",
   "metadata": {},
   "source": [
    "# If-Else-Elif-Statement"
   ]
  },
  {
   "cell_type": "code",
   "execution_count": 56,
   "id": "daec14ef-3544-45f9-bbba-ec63bb1fd9cc",
   "metadata": {},
   "outputs": [
    {
     "name": "stdin",
     "output_type": "stream",
     "text": [
      "Enter a positive integer:  8\n"
     ]
    },
    {
     "name": "stdout",
     "output_type": "stream",
     "text": [
      "The num 8 you entered is a valid input\n"
     ]
    }
   ],
   "source": [
    "# 1. **Basic If Statement**\n",
    "#- **Question:** Write a program that takes an integer input `num`. If `num` is positive, print\n",
    "#`\"Positive number.\"`\n",
    "\n",
    "\n",
    "positive_number = int(input('Enter a positive integer: '))\n",
    "if positive_number < 0:\n",
    "    print('Invalid num, input a positive integer')\n",
    "else:\n",
    "    print(f'The num {positive_number} you entered is a valid input')"
   ]
  },
  {
   "cell_type": "code",
   "execution_count": 60,
   "id": "082ebb25-ecb1-49fd-8080-3f4be89977ff",
   "metadata": {},
   "outputs": [
    {
     "name": "stdin",
     "output_type": "stream",
     "text": [
      "Enter a positive number:  790\n"
     ]
    },
    {
     "name": "stdout",
     "output_type": "stream",
     "text": [
      "The number 790 is a positive value\n"
     ]
    }
   ],
   "source": [
    "# 2. **If-Else Statement**\n",
    "#- **Question:** Extend the previous program to print `\"Negative number.\"` if `num` is less than\n",
    "#zero. If `num` is zero, print `\"Zero.\"\n",
    "\n",
    "\n",
    "positive_number = int(input('Enter a positive number: '))\n",
    "if positive_number < 0:\n",
    "    print(f'The number {positive_number} is a negative value')\n",
    "elif positive_number == 0:\n",
    "    print(f'The number {positive_number} is zero')\n",
    "else:\n",
    "    print(f'The number {positive_number} is a positive value')"
   ]
  },
  {
   "cell_type": "code",
   "execution_count": null,
   "id": "445ef876-c4e9-4a42-a861-6d8cc9c05032",
   "metadata": {},
   "outputs": [],
   "source": []
  },
  {
   "cell_type": "code",
   "execution_count": 62,
   "id": "02c0ed52-c022-4a51-83a4-c2fe4251e233",
   "metadata": {},
   "outputs": [
    {
     "name": "stdin",
     "output_type": "stream",
     "text": [
      "Enter your score:  69\n"
     ]
    },
    {
     "name": "stdout",
     "output_type": "stream",
     "text": [
      "Grade: F\n"
     ]
    }
   ],
   "source": [
    "# 3. **If-Elif-Else Statement**\n",
    "#- **Question:** Write a program that takes an integer input `score`.\n",
    "#- If `score` is 90 or above, print `\"Grade: A\"`\n",
    "#- Elif `score` is 80 or above, print `\"Grade: B\"`\n",
    "#- Elif `score` is 70 or above, print `\"Grade: C\"`\n",
    "#- Else, print `\"Grade: F\"`\n",
    "\n",
    "\n",
    "score = int(input('Enter your score: '))\n",
    "\n",
    "if score >= 90:\n",
    "    print('Grade: A')\n",
    "elif score >= 80:\n",
    "    print('Grade: B')\n",
    "elif score >= 70:\n",
    "    print('Grade: C')\n",
    "else:\n",
    "    print('Grade: F')"
   ]
  },
  {
   "cell_type": "code",
   "execution_count": null,
   "id": "dcd98738-db54-406c-b043-11ba295f9688",
   "metadata": {},
   "outputs": [],
   "source": []
  },
  {
   "cell_type": "code",
   "execution_count": 66,
   "id": "0a00b91f-d59a-4860-bfb1-8d702bae32ea",
   "metadata": {},
   "outputs": [
    {
     "name": "stdin",
     "output_type": "stream",
     "text": [
      "Please enter your age:  46\n"
     ]
    },
    {
     "name": "stdout",
     "output_type": "stream",
     "text": [
      "You can drive\n"
     ]
    }
   ],
   "source": [
    "# 4. **Nested If Statements**\n",
    "#- **Question:** Write a program that takes two inputs: `age` and `has_license`.\n",
    "#- If `age` is 18 or above:\n",
    "#- If `has_license` is `True`, print `\"You can drive.\"`\n",
    "#- Else, print `\"You need a driver's license to drive.\"`\n",
    "#- Else, print `\"You are too young to drive.\"`\n",
    "\n",
    "\n",
    "has_license = True\n",
    "age = int(input('Please enter your age: '))\n",
    "\n",
    "if age >= 18:\n",
    "    if has_license == True:\n",
    "        print('You can drive')\n",
    "    else:\n",
    "        print(\"You need a driver's license to drive\")\n",
    "else:\n",
    "    print('You are too young to drive')"
   ]
  },
  {
   "cell_type": "code",
   "execution_count": null,
   "id": "d089277b-dcc1-4670-b877-baa2aa700b17",
   "metadata": {},
   "outputs": [],
   "source": []
  },
  {
   "cell_type": "code",
   "execution_count": 94,
   "id": "82b57b3e-7299-45c1-9f8c-b57b08fa9e75",
   "metadata": {},
   "outputs": [
    {
     "name": "stdin",
     "output_type": "stream",
     "text": [
      "Enter the total amount of purchased item:  3589\n"
     ]
    },
    {
     "name": "stdout",
     "output_type": "stream",
     "text": [
      "You get a 20% discount\n"
     ]
    }
   ],
   "source": [
    "# 5. **Real-World Scenario**\n",
    "#- **Question:** You are creating a simple discount system for a store. Write a program that\n",
    "#takes an integer input `purchase_amount`.\n",
    "#- If `purchase_amount` is greater than or equal to 1000, print `\"You get a 20% discount!\"`\n",
    "#- Elif `purchase_amount` is greater than or equal to 500, print `\"You get a 10% discount!\"`\n",
    "#- Else, print `\"No discount available.\"`\n",
    "\n",
    "\n",
    "purchase_amount = int(input('Enter the total amount of purchased item: '))\n",
    "\n",
    "if purchase_amount >= 1000:\n",
    "    print('You get a 20% discount')\n",
    "elif purchase_amount >= 500:\n",
    "    print('You get a 10% discount')\n",
    "else:\n",
    "    print('No discount available')"
   ]
  },
  {
   "cell_type": "code",
   "execution_count": null,
   "id": "d65d83db-b322-4e19-9587-9130511b8e4b",
   "metadata": {},
   "outputs": [],
   "source": []
  },
  {
   "cell_type": "markdown",
   "id": "05cb492a-8d54-4a83-ad45-bfd6419cdeac",
   "metadata": {},
   "source": [
    "# Bonus Challenges"
   ]
  },
  {
   "cell_type": "code",
   "execution_count": 91,
   "id": "b2e906f3-4321-4526-89ec-5ab866ddf195",
   "metadata": {},
   "outputs": [
    {
     "name": "stdin",
     "output_type": "stream",
     "text": [
      "Enter the value of n:  5\n"
     ]
    },
    {
     "name": "stdout",
     "output_type": "stream",
     "text": [
      "n is a small value\n"
     ]
    }
   ],
   "source": [
    "# 1. **Multiple Elif Conditions**\n",
    "#- **Question:** Write a program that categorizes an integer `n` as `\"Negative\"`, `\"Zero\"`,\n",
    "#`\"Small\"`, `\"Medium\"`, or `\"Large\"` based on the following criteria:\n",
    "#- `\"Negative\"` if `n < 0`\n",
    "#- `\"Zero\"` if `n == 0`\n",
    "#- `\"Small\"` if `1 <= n <= 10`\n",
    "#- `\"Medium\"` if `11 <= n <= 20`\n",
    "#- `\"Large\"` if `n > 20`\n",
    "\n",
    "\n",
    "n = int(input('Enter the value of n: '))\n",
    "\n",
    "if n < 0:\n",
    "    print('n is a negative value')\n",
    "elif n == 0:\n",
    "    print('n is zero')\n",
    "elif 1 <= n <= 10:\n",
    "    print('n is a small value')\n",
    "elif 11 <= n <= 20:\n",
    "    print('n is a medium value')\n",
    "else:\n",
    "    print('n is a large value')"
   ]
  },
  {
   "cell_type": "code",
   "execution_count": null,
   "id": "e1571dd2-ad9c-472e-992b-293c22be2542",
   "metadata": {},
   "outputs": [],
   "source": []
  },
  {
   "cell_type": "code",
   "execution_count": 90,
   "id": "9f219253-fa42-4858-bacd-8b476a3dab73",
   "metadata": {},
   "outputs": [
    {
     "name": "stdout",
     "output_type": "stream",
     "text": [
      "You get a 30% discount\n"
     ]
    }
   ],
   "source": [
    "# 2. **Handling Multiple Conditions**\n",
    "#- **Question:** Write a program that takes two boolean inputs `is_member` and `has_coupon`.\n",
    "#- If `is_member` is `True` and `has_coupon` is `True`, print `\"You get a 30% discount.\"`\n",
    "#- Elif only `is_member` is `True`, print `\"You get a 10% discount.\"`\n",
    "#- Elif only `has_coupon` is `True`, print `\"You get a 5% discount.\"`\n",
    "#- Else, print `\"No discounts available.\"`\n",
    "\n",
    "\n",
    "is_member = True\n",
    "has_coupon = True\n",
    "\n",
    "if is_member == True and has_coupon == True:\n",
    "    print('You get a 30% discount')\n",
    "elif is_member == True and has_coupon == False:\n",
    "    print('You get a 10% discount')\n",
    "elif is_member == False and has_coupon == True:\n",
    "    print('You get a 5% discount')\n",
    "else:\n",
    "    print('No discounts available')"
   ]
  },
  {
   "cell_type": "code",
   "execution_count": null,
   "id": "4b12e3f1-2dbe-4bb4-9ba4-811ef05ccfd3",
   "metadata": {},
   "outputs": [],
   "source": []
  }
 ],
 "metadata": {
  "kernelspec": {
   "display_name": "Python 3 (ipykernel)",
   "language": "python",
   "name": "python3"
  },
  "language_info": {
   "codemirror_mode": {
    "name": "ipython",
    "version": 3
   },
   "file_extension": ".py",
   "mimetype": "text/x-python",
   "name": "python",
   "nbconvert_exporter": "python",
   "pygments_lexer": "ipython3",
   "version": "3.12.4"
  }
 },
 "nbformat": 4,
 "nbformat_minor": 5
}
