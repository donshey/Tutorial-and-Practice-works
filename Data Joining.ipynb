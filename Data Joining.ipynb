{
 "cells": [
  {
   "cell_type": "code",
   "execution_count": null,
   "id": "605a0499-9719-4fe1-9e27-5bd86530a814",
   "metadata": {},
   "outputs": [],
   "source": [
    "#Day 1, Week 5"
   ]
  },
  {
   "cell_type": "code",
   "execution_count": 2,
   "id": "db920c9c-ae10-4b8b-a6ac-7ff58b190f9e",
   "metadata": {},
   "outputs": [],
   "source": [
    "import pandas as pd"
   ]
  },
  {
   "cell_type": "code",
   "execution_count": 6,
   "id": "fba14dde-fdca-4e05-94c8-730bdfd2a43d",
   "metadata": {},
   "outputs": [
    {
     "name": "stdout",
     "output_type": "stream",
     "text": [
      "   CustomerID Customer Name\n",
      "0           1         Alice\n",
      "1           2           Bob\n",
      "2           3       Charlie\n",
      "\n",
      "   OrderID  CustomerID  Product\n",
      "0      101           1   Laptop\n",
      "1      102           2   Tablet\n",
      "2      103           1  Monitor\n"
     ]
    }
   ],
   "source": [
    "#create a customer's table\n",
    "customer= pd.DataFrame({'CustomerID':[1,2,3], 'Customer Name':['Alice', 'Bob', 'Charlie']})\n",
    "orders= pd.DataFrame({'OrderID':[101, 102,103], 'CustomerID':[1,2,1], 'Product':['Laptop', 'Tablet', 'Monitor']})\n",
    "print(customer)\n",
    "print()\n",
    "print(orders)"
   ]
  },
  {
   "cell_type": "code",
   "execution_count": 7,
   "id": "d7fec60d-e172-4130-a3f8-479cdf7958d3",
   "metadata": {},
   "outputs": [
    {
     "name": "stdout",
     "output_type": "stream",
     "text": [
      "   CustomerID Customer Name  OrderID  Product\n",
      "0           1         Alice      101   Laptop\n",
      "1           1         Alice      103  Monitor\n",
      "2           2           Bob      102   Tablet\n"
     ]
    }
   ],
   "source": [
    "#performing an inner join\n",
    "inner_merge= pd.merge(customer,orders, on= 'CustomerID', how= 'inner')\n",
    "print(inner_merge)"
   ]
  },
  {
   "cell_type": "code",
   "execution_count": 8,
   "id": "fedcbc32-28d8-4ea5-9fe0-0041975f309a",
   "metadata": {},
   "outputs": [
    {
     "name": "stdout",
     "output_type": "stream",
     "text": [
      "   CustomerID Customer Name  OrderID  Product\n",
      "0           1         Alice    101.0   Laptop\n",
      "1           1         Alice    103.0  Monitor\n",
      "2           2           Bob    102.0   Tablet\n",
      "3           3       Charlie      NaN      NaN\n"
     ]
    }
   ],
   "source": [
    "#performing an outer join\n",
    "outer_merge= pd.merge(customer,orders, on= 'CustomerID', how= 'outer')\n",
    "print(outer_merge)"
   ]
  },
  {
   "cell_type": "code",
   "execution_count": 9,
   "id": "f32d92b1-1687-4c78-8e69-a739194f4542",
   "metadata": {},
   "outputs": [
    {
     "name": "stdout",
     "output_type": "stream",
     "text": [
      "Left Join:\n",
      "   CustomerID Customer Name  OrderID  Product\n",
      "0           1         Alice    101.0   Laptop\n",
      "1           1         Alice    103.0  Monitor\n",
      "2           2           Bob    102.0   Tablet\n",
      "3           3       Charlie      NaN      NaN\n",
      "\n",
      "Right Join:\n",
      "   CustomerID Customer Name  OrderID  Product\n",
      "0           1         Alice      101   Laptop\n",
      "1           2           Bob      102   Tablet\n",
      "2           1         Alice      103  Monitor\n"
     ]
    }
   ],
   "source": [
    "#performing a left join and right join\n",
    "left_merge= pd.merge(customer,orders, on= 'CustomerID', how= 'left')\n",
    "right_merge= pd.merge(customer,orders, on= 'CustomerID', how= 'right')\n",
    "print(f'Left Join:\\n{left_merge}')\n",
    "print('')\n",
    "print(f'Right Join:\\n{right_merge}')"
   ]
  },
  {
   "cell_type": "code",
   "execution_count": null,
   "id": "04b7ff7d-8549-4ee1-9dc3-c6f17ad91254",
   "metadata": {},
   "outputs": [],
   "source": []
  },
  {
   "cell_type": "code",
   "execution_count": 41,
   "id": "20ddf53a-8086-4bd2-82ab-917c27ef0ea0",
   "metadata": {},
   "outputs": [
    {
     "name": "stdout",
     "output_type": "stream",
     "text": [
      "              Name                       Email  Phone Number\n",
      "0       Olotu Seyi         seyi.olotu@erml.net  070 63499927\n",
      "1  Stephen Aderemi  stephenaderemi16@gmail.com  081 32762781\n",
      "2       Frank John         frankjohn@gmail.com  081 52619051\n"
     ]
    }
   ],
   "source": [
    "#Create two datasets in Python using pandas:\n",
    "#1. First Dataset: A list containing Name, Email, and Phone Number.\n",
    "first_dataset= pd.DataFrame({'Name':['Olotu Seyi', 'Stephen Aderemi', 'Frank John'], \n",
    "                             'Email':['seyi.olotu@erml.net', 'stephenaderemi16@gmail.com', 'frankjohn@gmail.com'], \n",
    "                             'Phone Number':['070 63499927', '081 32762781', '081 52619051']})\n",
    "print(first_dataset)"
   ]
  },
  {
   "cell_type": "code",
   "execution_count": null,
   "id": "d9933795-a092-4717-a9e9-a39972d52b7d",
   "metadata": {},
   "outputs": [],
   "source": []
  },
  {
   "cell_type": "code",
   "execution_count": 42,
   "id": "c62886ab-e07d-43e3-8ccc-003552b83b60",
   "metadata": {},
   "outputs": [
    {
     "name": "stdout",
     "output_type": "stream",
     "text": [
      "              Name    Item Purchased  Amount Paid\n",
      "0       Olotu Seyi          Smart TV      1650000\n",
      "1  Stephen Aderemi              PS 5      1250000\n",
      "2    Michael Ebeku  Iphone 16 Promax      1200000\n"
     ]
    }
   ],
   "source": [
    "#2. Second Dataset: A list with Name, Item Purchased, and Amount Paid.\n",
    "second_dataset= pd.DataFrame({'Name':['Olotu Seyi', 'Stephen Aderemi', 'Michael Ebeku'], \n",
    "                              'Item Purchased':['Smart TV', 'PS 5', 'Iphone 16 Promax'], \n",
    "                              'Amount Paid':[1650000, 1250000, 1200000]})\n",
    "print(second_dataset)"
   ]
  },
  {
   "cell_type": "code",
   "execution_count": null,
   "id": "431a27fa-4258-4dc4-bb44-7958caa28954",
   "metadata": {},
   "outputs": [],
   "source": []
  },
  {
   "cell_type": "code",
   "execution_count": 43,
   "id": "58ae76b8-4181-412d-869b-2dce650ec8e7",
   "metadata": {},
   "outputs": [
    {
     "data": {
      "text/html": [
       "<div>\n",
       "<style scoped>\n",
       "    .dataframe tbody tr th:only-of-type {\n",
       "        vertical-align: middle;\n",
       "    }\n",
       "\n",
       "    .dataframe tbody tr th {\n",
       "        vertical-align: top;\n",
       "    }\n",
       "\n",
       "    .dataframe thead th {\n",
       "        text-align: right;\n",
       "    }\n",
       "</style>\n",
       "<table border=\"1\" class=\"dataframe\">\n",
       "  <thead>\n",
       "    <tr style=\"text-align: right;\">\n",
       "      <th></th>\n",
       "      <th>Name</th>\n",
       "      <th>Email</th>\n",
       "      <th>Phone Number</th>\n",
       "      <th>Item Purchased</th>\n",
       "      <th>Amount Paid</th>\n",
       "    </tr>\n",
       "  </thead>\n",
       "  <tbody>\n",
       "    <tr>\n",
       "      <th>0</th>\n",
       "      <td>Olotu Seyi</td>\n",
       "      <td>seyi.olotu@erml.net</td>\n",
       "      <td>070 63499927</td>\n",
       "      <td>Smart TV</td>\n",
       "      <td>1650000</td>\n",
       "    </tr>\n",
       "    <tr>\n",
       "      <th>1</th>\n",
       "      <td>Stephen Aderemi</td>\n",
       "      <td>stephenaderemi16@gmail.com</td>\n",
       "      <td>081 32762781</td>\n",
       "      <td>PS 5</td>\n",
       "      <td>1250000</td>\n",
       "    </tr>\n",
       "  </tbody>\n",
       "</table>\n",
       "</div>"
      ],
      "text/plain": [
       "              Name                       Email  Phone Number Item Purchased  \\\n",
       "0       Olotu Seyi         seyi.olotu@erml.net  070 63499927       Smart TV   \n",
       "1  Stephen Aderemi  stephenaderemi16@gmail.com  081 32762781           PS 5   \n",
       "\n",
       "   Amount Paid  \n",
       "0      1650000  \n",
       "1      1250000  "
      ]
     },
     "execution_count": 43,
     "metadata": {},
     "output_type": "execute_result"
    }
   ],
   "source": [
    "#Using pandas’ merge function, apply different types of joins to combine these datasets:\n",
    "#Inner Join: Only include rows with matching names in both datasets.\n",
    "inner_join= pd.merge(first_dataset,second_dataset, on= 'Name', how= 'inner')\n",
    "inner_join\n",
    "#print(inner_join)"
   ]
  },
  {
   "cell_type": "code",
   "execution_count": null,
   "id": "37730237-a49b-4c26-85b3-09ba44537404",
   "metadata": {},
   "outputs": [],
   "source": []
  },
  {
   "cell_type": "code",
   "execution_count": 44,
   "id": "2e2f429e-0ad3-4405-b9d8-7cb4177ffec6",
   "metadata": {},
   "outputs": [
    {
     "data": {
      "text/html": [
       "<div>\n",
       "<style scoped>\n",
       "    .dataframe tbody tr th:only-of-type {\n",
       "        vertical-align: middle;\n",
       "    }\n",
       "\n",
       "    .dataframe tbody tr th {\n",
       "        vertical-align: top;\n",
       "    }\n",
       "\n",
       "    .dataframe thead th {\n",
       "        text-align: right;\n",
       "    }\n",
       "</style>\n",
       "<table border=\"1\" class=\"dataframe\">\n",
       "  <thead>\n",
       "    <tr style=\"text-align: right;\">\n",
       "      <th></th>\n",
       "      <th>Name</th>\n",
       "      <th>Email</th>\n",
       "      <th>Phone Number</th>\n",
       "      <th>Item Purchased</th>\n",
       "      <th>Amount Paid</th>\n",
       "    </tr>\n",
       "  </thead>\n",
       "  <tbody>\n",
       "    <tr>\n",
       "      <th>0</th>\n",
       "      <td>Frank John</td>\n",
       "      <td>frankjohn@gmail.com</td>\n",
       "      <td>081 52619051</td>\n",
       "      <td>NaN</td>\n",
       "      <td>NaN</td>\n",
       "    </tr>\n",
       "    <tr>\n",
       "      <th>1</th>\n",
       "      <td>Michael Ebeku</td>\n",
       "      <td>NaN</td>\n",
       "      <td>NaN</td>\n",
       "      <td>Iphone 16 Promax</td>\n",
       "      <td>1200000.0</td>\n",
       "    </tr>\n",
       "    <tr>\n",
       "      <th>2</th>\n",
       "      <td>Olotu Seyi</td>\n",
       "      <td>seyi.olotu@erml.net</td>\n",
       "      <td>070 63499927</td>\n",
       "      <td>Smart TV</td>\n",
       "      <td>1650000.0</td>\n",
       "    </tr>\n",
       "    <tr>\n",
       "      <th>3</th>\n",
       "      <td>Stephen Aderemi</td>\n",
       "      <td>stephenaderemi16@gmail.com</td>\n",
       "      <td>081 32762781</td>\n",
       "      <td>PS 5</td>\n",
       "      <td>1250000.0</td>\n",
       "    </tr>\n",
       "  </tbody>\n",
       "</table>\n",
       "</div>"
      ],
      "text/plain": [
       "              Name                       Email  Phone Number  \\\n",
       "0       Frank John         frankjohn@gmail.com  081 52619051   \n",
       "1    Michael Ebeku                         NaN           NaN   \n",
       "2       Olotu Seyi         seyi.olotu@erml.net  070 63499927   \n",
       "3  Stephen Aderemi  stephenaderemi16@gmail.com  081 32762781   \n",
       "\n",
       "     Item Purchased  Amount Paid  \n",
       "0               NaN          NaN  \n",
       "1  Iphone 16 Promax    1200000.0  \n",
       "2          Smart TV    1650000.0  \n",
       "3              PS 5    1250000.0  "
      ]
     },
     "execution_count": 44,
     "metadata": {},
     "output_type": "execute_result"
    }
   ],
   "source": [
    "#Outer Join: Include all rows from both datasets, with missing values filled where no match exists.\n",
    "outer_join= pd.merge(first_dataset,second_dataset, on= 'Name', how= 'outer')\n",
    "outer_join\n",
    "#print(outer_join)"
   ]
  },
  {
   "cell_type": "code",
   "execution_count": null,
   "id": "511cf1c3-2d51-4c08-aeba-30bb28d9ff01",
   "metadata": {},
   "outputs": [],
   "source": []
  },
  {
   "cell_type": "code",
   "execution_count": 45,
   "id": "12916d0c-2ee3-4172-bb7d-f9db83ca2620",
   "metadata": {},
   "outputs": [
    {
     "name": "stdout",
     "output_type": "stream",
     "text": [
      "Left Join:\n",
      "              Name                       Email  Phone Number Item Purchased  \\\n",
      "0       Olotu Seyi         seyi.olotu@erml.net  070 63499927       Smart TV   \n",
      "1  Stephen Aderemi  stephenaderemi16@gmail.com  081 32762781           PS 5   \n",
      "2       Frank John         frankjohn@gmail.com  081 52619051            NaN   \n",
      "\n",
      "   Amount Paid  \n",
      "0    1650000.0  \n",
      "1    1250000.0  \n",
      "2          NaN  \n",
      "\n",
      "Right Join:\n",
      "              Name                       Email  Phone Number  \\\n",
      "0       Olotu Seyi         seyi.olotu@erml.net  070 63499927   \n",
      "1  Stephen Aderemi  stephenaderemi16@gmail.com  081 32762781   \n",
      "2    Michael Ebeku                         NaN           NaN   \n",
      "\n",
      "     Item Purchased  Amount Paid  \n",
      "0          Smart TV      1650000  \n",
      "1              PS 5      1250000  \n",
      "2  Iphone 16 Promax      1200000  \n"
     ]
    }
   ],
   "source": [
    "#Left Join: Include all rows from the first dataset, along with matches from the second.\n",
    "#Right Join: Include all rows from the second dataset, along with matches from the first.\n",
    "left_join= pd.merge(first_dataset,second_dataset, on= 'Name', how= 'left')\n",
    "right_join= pd.merge(first_dataset,second_dataset, on= 'Name', how= 'right')\n",
    "print(f'Left Join:\\n{left_join}')\n",
    "print('')\n",
    "print(f'Right Join:\\n{right_join}')"
   ]
  },
  {
   "cell_type": "code",
   "execution_count": null,
   "id": "ef559cbc-2545-40c2-932a-3a87d5b63fb8",
   "metadata": {},
   "outputs": [],
   "source": []
  }
 ],
 "metadata": {
  "kernelspec": {
   "display_name": "Python 3 (ipykernel)",
   "language": "python",
   "name": "python3"
  },
  "language_info": {
   "codemirror_mode": {
    "name": "ipython",
    "version": 3
   },
   "file_extension": ".py",
   "mimetype": "text/x-python",
   "name": "python",
   "nbconvert_exporter": "python",
   "pygments_lexer": "ipython3",
   "version": "3.12.4"
  }
 },
 "nbformat": 4,
 "nbformat_minor": 5
}
